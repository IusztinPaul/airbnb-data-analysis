{
 "cells": [
  {
   "cell_type": "code",
   "execution_count": 12,
   "outputs": [],
   "source": [
    "import json\n",
    "\n",
    "from pathlib import Path\n",
    "\n",
    "import matplotlib.pyplot as plt\n",
    "import pandas as pd\n",
    "import lightgbm as lgb\n",
    "import shap\n",
    "\n",
    "from sklearn.metrics import r2_score, mean_squared_error"
   ],
   "metadata": {
    "collapsed": false,
    "pycharm": {
     "name": "#%%\n"
    }
   }
  },
  {
   "cell_type": "markdown",
   "source": [],
   "metadata": {
    "collapsed": false,
    "pycharm": {
     "name": "#%% md\n"
    }
   }
  },
  {
   "cell_type": "code",
   "execution_count": 2,
   "outputs": [],
   "source": [
    "features_dir = Path(\"data\") / \"features\"\n",
    "\n",
    "X_train = pd.read_csv(features_dir / \"X_train.csv\")\n",
    "X_test = pd.read_csv(features_dir / \"X_test.csv\")\n",
    "y_train = pd.read_csv(features_dir / \"y_train.csv\")\n",
    "y_test = pd.read_csv(features_dir / \"y_test.csv\")\n",
    "\n",
    "with open(features_dir / \"meta.json\", \"r\") as f:\n",
    "    meta = json.load(f)\n",
    "\n",
    "categorical_features = meta[\"categorical_features\"]"
   ],
   "metadata": {
    "collapsed": false,
    "pycharm": {
     "name": "#%%\n"
    }
   }
  },
  {
   "cell_type": "code",
   "execution_count": 3,
   "outputs": [
    {
     "data": {
      "text/plain": "     host_id  host_since  host_response_rate  host_acceptance_rate  \\\n0  420673373    0.958782                1.00                  1.00   \n1  429206111    0.970761                0.91                  1.00   \n2  293464674    0.812589                1.00                  1.00   \n3   80550302    0.575431                0.75                  0.90   \n4  237371423    0.765076                0.92                  0.99   \n\n   host_listings_count  host_total_listings_count  latitude  longitude  \\\n0                    0                          0  52.29860    4.95581   \n1                    0                          0  52.36525    4.87946   \n2                    1                          1  51.92125    4.49959   \n3                    1                          1  51.91032    4.52203   \n4                    8                          8  52.38586    4.87644   \n\n   accommodates  bedrooms  ...  host_verifications_email  \\\n0             2       1.0  ...                         0   \n1             4       1.0  ...                         0   \n2             2       1.0  ...                         0   \n3             1       1.0  ...                         0   \n4             2       1.0  ...                         0   \n\n   host_verifications_government_id  host_verifications_jumio  \\\n0                                 0                         0   \n1                                 0                         0   \n2                                 1                         1   \n3                                 1                         0   \n4                                 1                         0   \n\n   host_verifications_phone  host_verifications_reviews  instant_bookable  \\\n0                         0                           0                 0   \n1                         0                           0                 0   \n2                         0                           0                 0   \n3                         0                           1                 0   \n4                         0                           0                 0   \n\n   is_bathroom_private  neighbourhood_cleansed  property_type  room_type  \n0                    0                       0              0          0  \n1                    0                       1              1          0  \n2                    0                       2              2          1  \n3                    0                       3              3          1  \n4                    0                       4              4          1  \n\n[5 rows x 68 columns]",
      "text/html": "<div>\n<style scoped>\n    .dataframe tbody tr th:only-of-type {\n        vertical-align: middle;\n    }\n\n    .dataframe tbody tr th {\n        vertical-align: top;\n    }\n\n    .dataframe thead th {\n        text-align: right;\n    }\n</style>\n<table border=\"1\" class=\"dataframe\">\n  <thead>\n    <tr style=\"text-align: right;\">\n      <th></th>\n      <th>host_id</th>\n      <th>host_since</th>\n      <th>host_response_rate</th>\n      <th>host_acceptance_rate</th>\n      <th>host_listings_count</th>\n      <th>host_total_listings_count</th>\n      <th>latitude</th>\n      <th>longitude</th>\n      <th>accommodates</th>\n      <th>bedrooms</th>\n      <th>...</th>\n      <th>host_verifications_email</th>\n      <th>host_verifications_government_id</th>\n      <th>host_verifications_jumio</th>\n      <th>host_verifications_phone</th>\n      <th>host_verifications_reviews</th>\n      <th>instant_bookable</th>\n      <th>is_bathroom_private</th>\n      <th>neighbourhood_cleansed</th>\n      <th>property_type</th>\n      <th>room_type</th>\n    </tr>\n  </thead>\n  <tbody>\n    <tr>\n      <th>0</th>\n      <td>420673373</td>\n      <td>0.958782</td>\n      <td>1.00</td>\n      <td>1.00</td>\n      <td>0</td>\n      <td>0</td>\n      <td>52.29860</td>\n      <td>4.95581</td>\n      <td>2</td>\n      <td>1.0</td>\n      <td>...</td>\n      <td>0</td>\n      <td>0</td>\n      <td>0</td>\n      <td>0</td>\n      <td>0</td>\n      <td>0</td>\n      <td>0</td>\n      <td>0</td>\n      <td>0</td>\n      <td>0</td>\n    </tr>\n    <tr>\n      <th>1</th>\n      <td>429206111</td>\n      <td>0.970761</td>\n      <td>0.91</td>\n      <td>1.00</td>\n      <td>0</td>\n      <td>0</td>\n      <td>52.36525</td>\n      <td>4.87946</td>\n      <td>4</td>\n      <td>1.0</td>\n      <td>...</td>\n      <td>0</td>\n      <td>0</td>\n      <td>0</td>\n      <td>0</td>\n      <td>0</td>\n      <td>0</td>\n      <td>0</td>\n      <td>1</td>\n      <td>1</td>\n      <td>0</td>\n    </tr>\n    <tr>\n      <th>2</th>\n      <td>293464674</td>\n      <td>0.812589</td>\n      <td>1.00</td>\n      <td>1.00</td>\n      <td>1</td>\n      <td>1</td>\n      <td>51.92125</td>\n      <td>4.49959</td>\n      <td>2</td>\n      <td>1.0</td>\n      <td>...</td>\n      <td>0</td>\n      <td>1</td>\n      <td>1</td>\n      <td>0</td>\n      <td>0</td>\n      <td>0</td>\n      <td>0</td>\n      <td>2</td>\n      <td>2</td>\n      <td>1</td>\n    </tr>\n    <tr>\n      <th>3</th>\n      <td>80550302</td>\n      <td>0.575431</td>\n      <td>0.75</td>\n      <td>0.90</td>\n      <td>1</td>\n      <td>1</td>\n      <td>51.91032</td>\n      <td>4.52203</td>\n      <td>1</td>\n      <td>1.0</td>\n      <td>...</td>\n      <td>0</td>\n      <td>1</td>\n      <td>0</td>\n      <td>0</td>\n      <td>1</td>\n      <td>0</td>\n      <td>0</td>\n      <td>3</td>\n      <td>3</td>\n      <td>1</td>\n    </tr>\n    <tr>\n      <th>4</th>\n      <td>237371423</td>\n      <td>0.765076</td>\n      <td>0.92</td>\n      <td>0.99</td>\n      <td>8</td>\n      <td>8</td>\n      <td>52.38586</td>\n      <td>4.87644</td>\n      <td>2</td>\n      <td>1.0</td>\n      <td>...</td>\n      <td>0</td>\n      <td>1</td>\n      <td>0</td>\n      <td>0</td>\n      <td>0</td>\n      <td>0</td>\n      <td>0</td>\n      <td>4</td>\n      <td>4</td>\n      <td>1</td>\n    </tr>\n  </tbody>\n</table>\n<p>5 rows × 68 columns</p>\n</div>"
     },
     "execution_count": 3,
     "metadata": {},
     "output_type": "execute_result"
    }
   ],
   "source": [
    "X_train.head()"
   ],
   "metadata": {
    "collapsed": false,
    "pycharm": {
     "name": "#%%\n"
    }
   }
  },
  {
   "cell_type": "code",
   "execution_count": 4,
   "outputs": [
    {
     "data": {
      "text/plain": "    host_id  host_since  host_response_rate  host_acceptance_rate  \\\n0  25677161    0.465990                 1.0                  0.88   \n1   5923086    0.337665                 1.0                  0.71   \n2   5878526    0.337056                 1.0                  0.57   \n3    837675    0.208731                 1.0                  1.00   \n4  32424525    0.489543                 0.8                  1.00   \n\n   host_listings_count  host_total_listings_count   latitude  longitude  \\\n0                    1                          1  52.375460   4.876560   \n1                    2                          2  51.924070   4.491460   \n2                    1                          1  52.360640   4.976430   \n3                    1                          1  52.382830   4.967150   \n4                    1                          1  52.385609   4.878721   \n\n   accommodates  bedrooms  ...  host_verifications_email  \\\n0             4       2.0  ...                         0   \n1             1       1.0  ...                         0   \n2             4       1.0  ...                         0   \n3             4       2.0  ...                         0   \n4             4       3.0  ...                         0   \n\n   host_verifications_government_id  host_verifications_jumio  \\\n0                                 1                         1   \n1                                 1                         1   \n2                                 1                         1   \n3                                 1                         1   \n4                                 1                         1   \n\n   host_verifications_phone  host_verifications_reviews  instant_bookable  \\\n0                         0                           1                 1   \n1                         0                           1                 1   \n2                         0                           1                 1   \n3                         0                           1                 1   \n4                         0                           1                 1   \n\n   is_bathroom_private  neighbourhood_cleansed  property_type  room_type  \n0                    1                     4.0            3.0          1  \n1                    0                    29.0           18.0          1  \n2                    0                    41.0           10.0          0  \n3                    0                     6.0           27.0          0  \n4                    0                     4.0            0.0          0  \n\n[5 rows x 68 columns]",
      "text/html": "<div>\n<style scoped>\n    .dataframe tbody tr th:only-of-type {\n        vertical-align: middle;\n    }\n\n    .dataframe tbody tr th {\n        vertical-align: top;\n    }\n\n    .dataframe thead th {\n        text-align: right;\n    }\n</style>\n<table border=\"1\" class=\"dataframe\">\n  <thead>\n    <tr style=\"text-align: right;\">\n      <th></th>\n      <th>host_id</th>\n      <th>host_since</th>\n      <th>host_response_rate</th>\n      <th>host_acceptance_rate</th>\n      <th>host_listings_count</th>\n      <th>host_total_listings_count</th>\n      <th>latitude</th>\n      <th>longitude</th>\n      <th>accommodates</th>\n      <th>bedrooms</th>\n      <th>...</th>\n      <th>host_verifications_email</th>\n      <th>host_verifications_government_id</th>\n      <th>host_verifications_jumio</th>\n      <th>host_verifications_phone</th>\n      <th>host_verifications_reviews</th>\n      <th>instant_bookable</th>\n      <th>is_bathroom_private</th>\n      <th>neighbourhood_cleansed</th>\n      <th>property_type</th>\n      <th>room_type</th>\n    </tr>\n  </thead>\n  <tbody>\n    <tr>\n      <th>0</th>\n      <td>25677161</td>\n      <td>0.465990</td>\n      <td>1.0</td>\n      <td>0.88</td>\n      <td>1</td>\n      <td>1</td>\n      <td>52.375460</td>\n      <td>4.876560</td>\n      <td>4</td>\n      <td>2.0</td>\n      <td>...</td>\n      <td>0</td>\n      <td>1</td>\n      <td>1</td>\n      <td>0</td>\n      <td>1</td>\n      <td>1</td>\n      <td>1</td>\n      <td>4.0</td>\n      <td>3.0</td>\n      <td>1</td>\n    </tr>\n    <tr>\n      <th>1</th>\n      <td>5923086</td>\n      <td>0.337665</td>\n      <td>1.0</td>\n      <td>0.71</td>\n      <td>2</td>\n      <td>2</td>\n      <td>51.924070</td>\n      <td>4.491460</td>\n      <td>1</td>\n      <td>1.0</td>\n      <td>...</td>\n      <td>0</td>\n      <td>1</td>\n      <td>1</td>\n      <td>0</td>\n      <td>1</td>\n      <td>1</td>\n      <td>0</td>\n      <td>29.0</td>\n      <td>18.0</td>\n      <td>1</td>\n    </tr>\n    <tr>\n      <th>2</th>\n      <td>5878526</td>\n      <td>0.337056</td>\n      <td>1.0</td>\n      <td>0.57</td>\n      <td>1</td>\n      <td>1</td>\n      <td>52.360640</td>\n      <td>4.976430</td>\n      <td>4</td>\n      <td>1.0</td>\n      <td>...</td>\n      <td>0</td>\n      <td>1</td>\n      <td>1</td>\n      <td>0</td>\n      <td>1</td>\n      <td>1</td>\n      <td>0</td>\n      <td>41.0</td>\n      <td>10.0</td>\n      <td>0</td>\n    </tr>\n    <tr>\n      <th>3</th>\n      <td>837675</td>\n      <td>0.208731</td>\n      <td>1.0</td>\n      <td>1.00</td>\n      <td>1</td>\n      <td>1</td>\n      <td>52.382830</td>\n      <td>4.967150</td>\n      <td>4</td>\n      <td>2.0</td>\n      <td>...</td>\n      <td>0</td>\n      <td>1</td>\n      <td>1</td>\n      <td>0</td>\n      <td>1</td>\n      <td>1</td>\n      <td>0</td>\n      <td>6.0</td>\n      <td>27.0</td>\n      <td>0</td>\n    </tr>\n    <tr>\n      <th>4</th>\n      <td>32424525</td>\n      <td>0.489543</td>\n      <td>0.8</td>\n      <td>1.00</td>\n      <td>1</td>\n      <td>1</td>\n      <td>52.385609</td>\n      <td>4.878721</td>\n      <td>4</td>\n      <td>3.0</td>\n      <td>...</td>\n      <td>0</td>\n      <td>1</td>\n      <td>1</td>\n      <td>0</td>\n      <td>1</td>\n      <td>1</td>\n      <td>0</td>\n      <td>4.0</td>\n      <td>0.0</td>\n      <td>0</td>\n    </tr>\n  </tbody>\n</table>\n<p>5 rows × 68 columns</p>\n</div>"
     },
     "execution_count": 4,
     "metadata": {},
     "output_type": "execute_result"
    }
   ],
   "source": [
    "X_test.head()"
   ],
   "metadata": {
    "collapsed": false,
    "pycharm": {
     "name": "#%%\n"
    }
   }
  },
  {
   "cell_type": "code",
   "execution_count": 5,
   "outputs": [
    {
     "data": {
      "text/plain": "['host_response_time',\n 'host_is_superhost',\n 'host_neighbourhood',\n 'host_has_profile_pic',\n 'host_identity_verified',\n 'neighbourhood_cleansed',\n 'property_type',\n 'room_type',\n 'has_availability',\n 'instant_bookable',\n 'city',\n 'has_license',\n 'is_bathroom_private',\n 'host_verifications_phone',\n 'host_verifications_email',\n 'host_verifications_jumio',\n 'host_verifications_reviews',\n 'host_verifications_government_id',\n 'amenities_Wifi',\n 'amenities_Essentials',\n 'amenities_Smoke alarm',\n 'amenities_Heating',\n 'amenities_Hangers',\n 'amenities_Long term stays allowed',\n 'amenities_Kitchen',\n 'amenities_Hair dryer',\n 'amenities_Hot water',\n 'amenities_Iron',\n 'host_id']"
     },
     "execution_count": 5,
     "metadata": {},
     "output_type": "execute_result"
    }
   ],
   "source": [
    "categorical_features"
   ],
   "metadata": {
    "collapsed": false,
    "pycharm": {
     "name": "#%%\n"
    }
   }
  },
  {
   "cell_type": "code",
   "execution_count": 6,
   "outputs": [
    {
     "data": {
      "text/plain": "      price\n0     159.0\n1     357.0\n2      85.0\n3      46.0\n4     103.0\n...     ...\n5723   94.0\n5724   60.0\n5725  180.0\n5726  145.0\n5727  185.0\n\n[5728 rows x 1 columns]",
      "text/html": "<div>\n<style scoped>\n    .dataframe tbody tr th:only-of-type {\n        vertical-align: middle;\n    }\n\n    .dataframe tbody tr th {\n        vertical-align: top;\n    }\n\n    .dataframe thead th {\n        text-align: right;\n    }\n</style>\n<table border=\"1\" class=\"dataframe\">\n  <thead>\n    <tr style=\"text-align: right;\">\n      <th></th>\n      <th>price</th>\n    </tr>\n  </thead>\n  <tbody>\n    <tr>\n      <th>0</th>\n      <td>159.0</td>\n    </tr>\n    <tr>\n      <th>1</th>\n      <td>357.0</td>\n    </tr>\n    <tr>\n      <th>2</th>\n      <td>85.0</td>\n    </tr>\n    <tr>\n      <th>3</th>\n      <td>46.0</td>\n    </tr>\n    <tr>\n      <th>4</th>\n      <td>103.0</td>\n    </tr>\n    <tr>\n      <th>...</th>\n      <td>...</td>\n    </tr>\n    <tr>\n      <th>5723</th>\n      <td>94.0</td>\n    </tr>\n    <tr>\n      <th>5724</th>\n      <td>60.0</td>\n    </tr>\n    <tr>\n      <th>5725</th>\n      <td>180.0</td>\n    </tr>\n    <tr>\n      <th>5726</th>\n      <td>145.0</td>\n    </tr>\n    <tr>\n      <th>5727</th>\n      <td>185.0</td>\n    </tr>\n  </tbody>\n</table>\n<p>5728 rows × 1 columns</p>\n</div>"
     },
     "execution_count": 6,
     "metadata": {},
     "output_type": "execute_result"
    }
   ],
   "source": [
    "y_train"
   ],
   "metadata": {
    "collapsed": false,
    "pycharm": {
     "name": "#%%\n"
    }
   }
  },
  {
   "cell_type": "code",
   "execution_count": 7,
   "outputs": [
    {
     "data": {
      "text/plain": "   price\n0  225.0\n1   75.0\n2  135.0\n3  149.0\n4  170.0",
      "text/html": "<div>\n<style scoped>\n    .dataframe tbody tr th:only-of-type {\n        vertical-align: middle;\n    }\n\n    .dataframe tbody tr th {\n        vertical-align: top;\n    }\n\n    .dataframe thead th {\n        text-align: right;\n    }\n</style>\n<table border=\"1\" class=\"dataframe\">\n  <thead>\n    <tr style=\"text-align: right;\">\n      <th></th>\n      <th>price</th>\n    </tr>\n  </thead>\n  <tbody>\n    <tr>\n      <th>0</th>\n      <td>225.0</td>\n    </tr>\n    <tr>\n      <th>1</th>\n      <td>75.0</td>\n    </tr>\n    <tr>\n      <th>2</th>\n      <td>135.0</td>\n    </tr>\n    <tr>\n      <th>3</th>\n      <td>149.0</td>\n    </tr>\n    <tr>\n      <th>4</th>\n      <td>170.0</td>\n    </tr>\n  </tbody>\n</table>\n</div>"
     },
     "execution_count": 7,
     "metadata": {},
     "output_type": "execute_result"
    }
   ],
   "source": [
    "y_test.head()"
   ],
   "metadata": {
    "collapsed": false,
    "pycharm": {
     "name": "#%%\n"
    }
   }
  },
  {
   "cell_type": "markdown",
   "source": [
    "# Train"
   ],
   "metadata": {
    "collapsed": false,
    "pycharm": {
     "name": "#%% md\n"
    }
   }
  },
  {
   "cell_type": "code",
   "execution_count": 8,
   "outputs": [
    {
     "name": "stderr",
     "output_type": "stream",
     "text": [
      "'early_stopping_rounds' argument is deprecated and will be removed in a future release of LightGBM. Pass 'early_stopping()' callback via 'callbacks' argument instead.\n",
      "categorical_feature in Dataset is overridden.\n",
      "New categorical_feature is ['amenities_Essentials', 'amenities_Hair dryer', 'amenities_Hangers', 'amenities_Heating', 'amenities_Hot water', 'amenities_Iron', 'amenities_Kitchen', 'amenities_Long term stays allowed', 'amenities_Smoke alarm', 'amenities_Wifi', 'city', 'has_availability', 'has_license', 'host_has_profile_pic', 'host_id', 'host_identity_verified', 'host_is_superhost', 'host_neighbourhood', 'host_response_time', 'host_verifications_email', 'host_verifications_government_id', 'host_verifications_jumio', 'host_verifications_phone', 'host_verifications_reviews', 'instant_bookable', 'is_bathroom_private', 'neighbourhood_cleansed', 'property_type', 'room_type']\n",
      "'verbose_eval' argument is deprecated and will be removed in a future release of LightGBM. Pass 'log_evaluation()' callback via 'callbacks' argument instead.\n",
      "'evals_result' argument is deprecated and will be removed in a future release of LightGBM. Pass 'record_evaluation()' callback via 'callbacks' argument instead.\n"
     ]
    },
    {
     "name": "stdout",
     "output_type": "stream",
     "text": [
      "[LightGBM] [Warning] Met categorical feature which contains sparse values. Consider renumbering to consecutive integers started from zero\n",
      "[LightGBM] [Warning] Found whitespace in feature_names, replace with underlines\n",
      "[LightGBM] [Warning] Auto-choosing col-wise multi-threading, the overhead of testing was 0.001105 seconds.\n",
      "You can set `force_col_wise=true` to remove the overhead.\n",
      "[LightGBM] [Info] Total Bins 4377\n",
      "[LightGBM] [Info] Number of data points in the train set: 5728, number of used features: 65\n",
      "[LightGBM] [Info] Start training from score 162.732018\n",
      "Training until validation scores don't improve for 20 rounds\n",
      "[5]\ttraining's rmse: 110.156\n",
      "[10]\ttraining's rmse: 108.84\n",
      "[15]\ttraining's rmse: 107.544\n",
      "[20]\ttraining's rmse: 106.299\n",
      "[25]\ttraining's rmse: 105.128\n",
      "[30]\ttraining's rmse: 103.931\n",
      "[35]\ttraining's rmse: 102.764\n",
      "[40]\ttraining's rmse: 101.611\n",
      "[45]\ttraining's rmse: 100.546\n",
      "[50]\ttraining's rmse: 99.417\n",
      "[55]\ttraining's rmse: 98.4024\n",
      "[60]\ttraining's rmse: 97.348\n",
      "[65]\ttraining's rmse: 96.3488\n",
      "[70]\ttraining's rmse: 95.4054\n",
      "[75]\ttraining's rmse: 94.4732\n",
      "[80]\ttraining's rmse: 93.5987\n",
      "[85]\ttraining's rmse: 92.7025\n",
      "[90]\ttraining's rmse: 91.8432\n",
      "[95]\ttraining's rmse: 90.994\n",
      "[100]\ttraining's rmse: 90.2048\n",
      "[105]\ttraining's rmse: 89.413\n",
      "[110]\ttraining's rmse: 88.6141\n",
      "[115]\ttraining's rmse: 87.8625\n",
      "[120]\ttraining's rmse: 87.1254\n",
      "[125]\ttraining's rmse: 86.386\n",
      "[130]\ttraining's rmse: 85.7219\n",
      "[135]\ttraining's rmse: 85.0433\n",
      "[140]\ttraining's rmse: 84.3829\n",
      "[145]\ttraining's rmse: 83.7358\n",
      "[150]\ttraining's rmse: 83.0872\n",
      "[155]\ttraining's rmse: 82.482\n",
      "[160]\ttraining's rmse: 81.8603\n",
      "[165]\ttraining's rmse: 81.269\n",
      "[170]\ttraining's rmse: 80.7347\n",
      "[175]\ttraining's rmse: 80.1593\n",
      "[180]\ttraining's rmse: 79.5652\n",
      "[185]\ttraining's rmse: 79.0834\n",
      "[190]\ttraining's rmse: 78.5427\n",
      "[195]\ttraining's rmse: 78.0455\n",
      "[200]\ttraining's rmse: 77.5608\n",
      "[205]\ttraining's rmse: 77.0817\n",
      "[210]\ttraining's rmse: 76.5832\n",
      "[215]\ttraining's rmse: 76.1298\n",
      "[220]\ttraining's rmse: 75.65\n",
      "[225]\ttraining's rmse: 75.2173\n",
      "[230]\ttraining's rmse: 74.7786\n",
      "[235]\ttraining's rmse: 74.323\n",
      "[240]\ttraining's rmse: 73.9286\n",
      "[245]\ttraining's rmse: 73.5166\n",
      "[250]\ttraining's rmse: 73.1139\n",
      "[255]\ttraining's rmse: 72.7239\n",
      "[260]\ttraining's rmse: 72.3387\n",
      "[265]\ttraining's rmse: 71.9545\n",
      "[270]\ttraining's rmse: 71.5539\n",
      "[275]\ttraining's rmse: 71.162\n",
      "[280]\ttraining's rmse: 70.8073\n",
      "[285]\ttraining's rmse: 70.4475\n",
      "[290]\ttraining's rmse: 70.1045\n",
      "[295]\ttraining's rmse: 69.7497\n",
      "[300]\ttraining's rmse: 69.4207\n",
      "[305]\ttraining's rmse: 69.0658\n",
      "[310]\ttraining's rmse: 68.7134\n",
      "[315]\ttraining's rmse: 68.3955\n",
      "[320]\ttraining's rmse: 68.0848\n",
      "[325]\ttraining's rmse: 67.7849\n",
      "[330]\ttraining's rmse: 67.5009\n",
      "[335]\ttraining's rmse: 67.2043\n",
      "[340]\ttraining's rmse: 66.9271\n",
      "[345]\ttraining's rmse: 66.6225\n",
      "[350]\ttraining's rmse: 66.3316\n",
      "[355]\ttraining's rmse: 66.0602\n",
      "[360]\ttraining's rmse: 65.7856\n",
      "[365]\ttraining's rmse: 65.4922\n",
      "[370]\ttraining's rmse: 65.2121\n",
      "[375]\ttraining's rmse: 64.968\n",
      "[380]\ttraining's rmse: 64.706\n",
      "[385]\ttraining's rmse: 64.4486\n",
      "[390]\ttraining's rmse: 64.213\n",
      "[395]\ttraining's rmse: 63.9895\n",
      "[400]\ttraining's rmse: 63.7306\n",
      "[405]\ttraining's rmse: 63.5008\n",
      "[410]\ttraining's rmse: 63.2579\n",
      "[415]\ttraining's rmse: 63.0123\n",
      "[420]\ttraining's rmse: 62.7708\n",
      "[425]\ttraining's rmse: 62.5456\n",
      "[430]\ttraining's rmse: 62.2969\n",
      "[435]\ttraining's rmse: 62.0592\n",
      "[440]\ttraining's rmse: 61.8484\n",
      "[445]\ttraining's rmse: 61.6161\n",
      "[450]\ttraining's rmse: 61.3883\n",
      "[455]\ttraining's rmse: 61.1592\n",
      "[460]\ttraining's rmse: 60.9381\n",
      "[465]\ttraining's rmse: 60.7118\n",
      "[470]\ttraining's rmse: 60.502\n",
      "[475]\ttraining's rmse: 60.2926\n",
      "[480]\ttraining's rmse: 60.1088\n",
      "[485]\ttraining's rmse: 59.9157\n",
      "[490]\ttraining's rmse: 59.7298\n",
      "[495]\ttraining's rmse: 59.5197\n",
      "[500]\ttraining's rmse: 59.3168\n",
      "[505]\ttraining's rmse: 59.12\n",
      "[510]\ttraining's rmse: 58.9563\n",
      "[515]\ttraining's rmse: 58.7643\n",
      "[520]\ttraining's rmse: 58.5794\n",
      "[525]\ttraining's rmse: 58.4054\n",
      "[530]\ttraining's rmse: 58.2207\n",
      "[535]\ttraining's rmse: 58.0305\n",
      "[540]\ttraining's rmse: 57.8375\n",
      "[545]\ttraining's rmse: 57.6717\n",
      "[550]\ttraining's rmse: 57.5068\n",
      "[555]\ttraining's rmse: 57.3294\n",
      "[560]\ttraining's rmse: 57.1519\n",
      "[565]\ttraining's rmse: 56.9851\n",
      "[570]\ttraining's rmse: 56.811\n",
      "[575]\ttraining's rmse: 56.6366\n",
      "[580]\ttraining's rmse: 56.4874\n",
      "[585]\ttraining's rmse: 56.3131\n",
      "[590]\ttraining's rmse: 56.144\n",
      "[595]\ttraining's rmse: 55.9635\n",
      "[600]\ttraining's rmse: 55.7982\n",
      "[605]\ttraining's rmse: 55.6465\n",
      "[610]\ttraining's rmse: 55.4802\n",
      "[615]\ttraining's rmse: 55.3222\n",
      "[620]\ttraining's rmse: 55.1703\n",
      "[625]\ttraining's rmse: 55.0187\n",
      "[630]\ttraining's rmse: 54.8703\n",
      "[635]\ttraining's rmse: 54.7008\n",
      "[640]\ttraining's rmse: 54.5501\n",
      "[645]\ttraining's rmse: 54.375\n",
      "[650]\ttraining's rmse: 54.2156\n",
      "[655]\ttraining's rmse: 54.0717\n",
      "[660]\ttraining's rmse: 53.9164\n",
      "[665]\ttraining's rmse: 53.7788\n",
      "[670]\ttraining's rmse: 53.6317\n",
      "[675]\ttraining's rmse: 53.4871\n",
      "[680]\ttraining's rmse: 53.32\n",
      "[685]\ttraining's rmse: 53.1782\n",
      "[690]\ttraining's rmse: 53.0064\n",
      "[695]\ttraining's rmse: 52.8466\n",
      "[700]\ttraining's rmse: 52.6844\n",
      "[705]\ttraining's rmse: 52.5467\n",
      "[710]\ttraining's rmse: 52.4009\n",
      "[715]\ttraining's rmse: 52.2675\n",
      "[720]\ttraining's rmse: 52.1322\n",
      "[725]\ttraining's rmse: 51.9888\n",
      "[730]\ttraining's rmse: 51.8354\n",
      "[735]\ttraining's rmse: 51.6869\n",
      "[740]\ttraining's rmse: 51.5571\n",
      "[745]\ttraining's rmse: 51.4172\n",
      "[750]\ttraining's rmse: 51.2986\n",
      "[755]\ttraining's rmse: 51.187\n",
      "[760]\ttraining's rmse: 51.0475\n",
      "[765]\ttraining's rmse: 50.9202\n",
      "[770]\ttraining's rmse: 50.7862\n",
      "[775]\ttraining's rmse: 50.6502\n",
      "[780]\ttraining's rmse: 50.5369\n",
      "[785]\ttraining's rmse: 50.4143\n",
      "[790]\ttraining's rmse: 50.2691\n",
      "[795]\ttraining's rmse: 50.1386\n",
      "[800]\ttraining's rmse: 50.023\n",
      "[805]\ttraining's rmse: 49.9066\n",
      "[810]\ttraining's rmse: 49.7913\n",
      "[815]\ttraining's rmse: 49.6532\n",
      "[820]\ttraining's rmse: 49.5406\n",
      "[825]\ttraining's rmse: 49.3916\n",
      "[830]\ttraining's rmse: 49.2724\n",
      "[835]\ttraining's rmse: 49.1516\n",
      "[840]\ttraining's rmse: 49.046\n",
      "[845]\ttraining's rmse: 48.9351\n",
      "[850]\ttraining's rmse: 48.7923\n",
      "[855]\ttraining's rmse: 48.6743\n",
      "[860]\ttraining's rmse: 48.5706\n",
      "[865]\ttraining's rmse: 48.4478\n",
      "[870]\ttraining's rmse: 48.3174\n",
      "[875]\ttraining's rmse: 48.1774\n",
      "[880]\ttraining's rmse: 48.0422\n",
      "[885]\ttraining's rmse: 47.9134\n",
      "[890]\ttraining's rmse: 47.8202\n",
      "[895]\ttraining's rmse: 47.6983\n",
      "[900]\ttraining's rmse: 47.578\n",
      "[905]\ttraining's rmse: 47.4436\n",
      "[910]\ttraining's rmse: 47.3472\n",
      "[915]\ttraining's rmse: 47.2164\n",
      "[920]\ttraining's rmse: 47.0957\n",
      "[925]\ttraining's rmse: 46.9788\n",
      "[930]\ttraining's rmse: 46.8531\n",
      "[935]\ttraining's rmse: 46.7564\n",
      "[940]\ttraining's rmse: 46.6509\n",
      "[945]\ttraining's rmse: 46.5353\n",
      "[950]\ttraining's rmse: 46.4338\n",
      "[955]\ttraining's rmse: 46.3321\n",
      "[960]\ttraining's rmse: 46.2123\n",
      "[965]\ttraining's rmse: 46.1198\n",
      "[970]\ttraining's rmse: 46.0115\n",
      "[975]\ttraining's rmse: 45.9075\n",
      "[980]\ttraining's rmse: 45.8025\n",
      "[985]\ttraining's rmse: 45.6997\n",
      "[990]\ttraining's rmse: 45.5882\n",
      "[995]\ttraining's rmse: 45.4924\n",
      "[1000]\ttraining's rmse: 45.4005\n",
      "Did not meet early stopping. Best iteration is:\n",
      "[1000]\ttraining's rmse: 45.4005\n"
     ]
    }
   ],
   "source": [
    "params = {\n",
    "    'objective': 'mse',\n",
    "    'metric': 'rmse',\n",
    "    'num_leaves': 2 ** 7 - 1,\n",
    "    'learning_rate': 0.005,\n",
    "    'feature_fraction': 0.75,\n",
    "    'bagging_fraction': 0.75,\n",
    "    'bagging_freq': 5,\n",
    "    'seed': 1,\n",
    "    'verbose': 1\n",
    "}\n",
    "\n",
    "feature_name_indexes = [\n",
    "    'country_part',\n",
    "    'item_category_common',\n",
    "    'item_category_code',\n",
    "    'city_code',\n",
    "]\n",
    "\n",
    "lgb_train = lgb.Dataset(X_train, y_train)\n",
    "\n",
    "evals_result = {}\n",
    "gbm = lgb.train(\n",
    "    params,\n",
    "    lgb_train,\n",
    "    num_boost_round=1000,\n",
    "    valid_sets=[lgb_train],\n",
    "    categorical_feature=categorical_features,\n",
    "    verbose_eval=5,\n",
    "    evals_result=evals_result,\n",
    "    early_stopping_rounds=20\n",
    ")"
   ],
   "metadata": {
    "collapsed": false,
    "pycharm": {
     "name": "#%%\n"
    }
   }
  },
  {
   "cell_type": "code",
   "execution_count": 13,
   "outputs": [
    {
     "name": "stdout",
     "output_type": "stream",
     "text": [
      "R2 Score: 0.6180\n",
      "RMSE Score: 66.9098\n"
     ]
    }
   ],
   "source": [
    "y_test_pred = gbm.predict(X_test)\n",
    "\n",
    "print(f\"R2 Score: {r2_score(y_test, y_test_pred):.4f}\")\n",
    "print(f\"RMSE Score: {mean_squared_error(y_test, y_test_pred, squared=False):.4f}\")"
   ],
   "metadata": {
    "collapsed": false,
    "pycharm": {
     "name": "#%%\n"
    }
   }
  },
  {
   "cell_type": "code",
   "execution_count": 26,
   "outputs": [
    {
     "data": {
      "text/plain": "<Figure size 720x360 with 1 Axes>",
      "image/png": "[encoded data removed]"
     },
     "metadata": {
      "needs_background": "light"
     },
     "output_type": "display_data"
    }
   ],
   "source": [
    "import seaborn as sns\n",
    "\n",
    "from matplotlib.ticker import FormatStrFormatter\n",
    "\n",
    "plt.rcParams[\"axes.prop_cycle\"] = plt.cycler(\"color\", sns.color_palette(\"crest\", as_cmap=True).colors)\n",
    "\n",
    "ax = lgb.plot_importance(\n",
    "    gbm,\n",
    "    max_num_features=15,\n",
    "    importance_type='gain',\n",
    "    figsize=(10,5),\n",
    "\n",
    ")\n",
    "ax.set_facecolor(\"white\")\n",
    "\n",
    "ax.set_xlabel(\"Characteristic Importance\", fontsize=17)\n",
    "ax.set_ylabel(\"Property Characteristic\", fontsize=17)\n",
    "ax.tick_params(axis='y', which='major', labelsize=13)\n",
    "ax.xaxis.labelpad = 10\n",
    "ax.yaxis.labelpad = 10\n",
    "\n",
    "for txt in ax.texts:\n",
    "    txt.set_visible(False)\n",
    "\n",
    "ax.xaxis.set_major_formatter(FormatStrFormatter('%1.2f'))\n",
    "\n",
    "plt.title(\"Most Important Characteristics that Determine the Price of a Property\", fontsize=15)\n",
    "plt.savefig(Path(\"images\") / \"lightgbm.png\", bbox_inches = \"tight\")"
   ],
   "metadata": {
    "collapsed": false,
    "pycharm": {
     "name": "#%%\n"
    }
   }
  },
  {
   "cell_type": "code",
   "execution_count": null,
   "outputs": [],
   "source": [
    "explainer = shap.TreeExplainer(gbm)\n",
    "shap_values = explainer.shap_values(X_test)"
   ],
   "metadata": {
    "collapsed": false,
    "pycharm": {
     "name": "#%%\n"
    }
   }
  },
  {
   "cell_type": "code",
   "execution_count": null,
   "outputs": [],
   "source": [
    "shap.summary_plot(\n",
    "    shap_values,\n",
    "    X_test,\n",
    "    max_display=15,\n",
    "    title=\"Most Important Characteristics that Determine the Price of a Property\"\n",
    ")"
   ],
   "metadata": {
    "collapsed": false,
    "pycharm": {
     "name": "#%%\n"
    }
   }
  }
 ],
 "metadata": {
  "kernelspec": {
   "display_name": "Python 3",
   "language": "python",
   "name": "python3"
  },
  "language_info": {
   "codemirror_mode": {
    "name": "ipython",
    "version": 2
   },
   "file_extension": ".py",
   "mimetype": "text/x-python",
   "name": "python",
   "nbconvert_exporter": "python",
   "pygments_lexer": "ipython2",
   "version": "2.7.6"
  }
 },
 "nbformat": 4,
 "nbformat_minor": 0
}