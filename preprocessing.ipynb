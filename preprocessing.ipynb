{
 "cells": [
  {
   "cell_type": "markdown",
   "source": [
    "# Goal"
   ],
   "metadata": {
    "collapsed": false,
    "pycharm": {
     "name": "#%% md\n"
    }
   }
  },
  {
   "cell_type": "markdown",
   "source": [
    "Our goal with this notebook is to prepare the data for different models that will predict the price of a listing based on other features.\n",
    "By doing so we will see what features influence the most the price of a listing."
   ],
   "metadata": {
    "collapsed": false,
    "pycharm": {
     "name": "#%% md\n"
    }
   }
  },
  {
   "cell_type": "markdown",
   "source": [
    "# Import Libraries"
   ],
   "metadata": {
    "collapsed": false,
    "pycharm": {
     "name": "#%% md\n"
    }
   }
  },
  {
   "cell_type": "code",
   "execution_count": 1,
   "outputs": [],
   "source": [
    "from collections import Counter\n",
    "from pathlib import Path\n",
    "from typing import Optional, List, Tuple\n",
    "\n",
    "import pandas as pd\n",
    "\n",
    "from sklearn.preprocessing import MinMaxScaler\n",
    "from sklearn.impute import SimpleImputer\n",
    "from sklearn.model_selection import train_test_split"
   ],
   "metadata": {
    "collapsed": false,
    "pycharm": {
     "name": "#%%\n"
    }
   }
  },
  {
   "cell_type": "markdown",
   "source": [
    "# Load Data"
   ],
   "metadata": {
    "collapsed": false,
    "pycharm": {
     "name": "#%% md\n"
    }
   }
  },
  {
   "cell_type": "code",
   "execution_count": 2,
   "outputs": [],
   "source": [
    "df = pd.read_csv(Path(\"data\") / \"data.csv\")"
   ],
   "metadata": {
    "collapsed": false,
    "pycharm": {
     "name": "#%%\n"
    }
   }
  },
  {
   "cell_type": "code",
   "execution_count": 3,
   "outputs": [
    {
     "data": {
      "text/plain": "      id  host_id  host_since host_response_time  host_response_rate  \\\n0   2818     3159  2008-09-24     within an hour                 1.0   \n1  20168    59484  2009-12-02     within an hour                 1.0   \n2  27886    97647  2010-03-23     within an hour                 1.0   \n3  28871   124245  2010-05-13     within an hour                 1.0   \n4  29051   124245  2010-05-13     within an hour                 1.0   \n\n   host_acceptance_rate host_is_superhost   host_neighbourhood  \\\n0                  1.00                 t       Indische Buurt   \n1                  0.98                 f       Grachtengordel   \n2                  1.00                 t  Westelijke Eilanden   \n3                  0.99                 t    Amsterdam Centrum   \n4                  0.99                 t    Amsterdam Centrum   \n\n   host_listings_count  host_total_listings_count  ... review_scores_value  \\\n0                    1                          1  ...                4.82   \n1                    2                          2  ...                4.49   \n2                    1                          1  ...                4.79   \n3                    2                          2  ...                4.82   \n4                    2                          2  ...                4.75   \n\n  instant_bookable calculated_host_listings_count  \\\n0                t                              1   \n1                t                              2   \n2                t                              1   \n3                f                              2   \n4                f                              2   \n\n  calculated_host_listings_count_entire_homes  \\\n0                                           0   \n1                                           0   \n2                                           0   \n3                                           0   \n4                                           0   \n\n   calculated_host_listings_count_private_rooms  \\\n0                                             1   \n1                                             2   \n2                                             1   \n3                                             2   \n4                                             2   \n\n   calculated_host_listings_count_shared_rooms reviews_per_month       city  \\\n0                                            0              1.81  Amsterdam   \n1                                            0              2.30  Amsterdam   \n2                                            0              1.84  Amsterdam   \n3                                            0              2.70  Amsterdam   \n4                                            0              3.98  Amsterdam   \n\n   has_license  is_bathroom_private  \n0            t                    f  \n1            t                    t  \n2            t                    f  \n3            t                    f  \n4            t                    f  \n\n[5 rows x 57 columns]",
      "text/html": "<div>\n<style scoped>\n    .dataframe tbody tr th:only-of-type {\n        vertical-align: middle;\n    }\n\n    .dataframe tbody tr th {\n        vertical-align: top;\n    }\n\n    .dataframe thead th {\n        text-align: right;\n    }\n</style>\n<table border=\"1\" class=\"dataframe\">\n  <thead>\n    <tr style=\"text-align: right;\">\n      <th></th>\n      <th>id</th>\n      <th>host_id</th>\n      <th>host_since</th>\n      <th>host_response_time</th>\n      <th>host_response_rate</th>\n      <th>host_acceptance_rate</th>\n      <th>host_is_superhost</th>\n      <th>host_neighbourhood</th>\n      <th>host_listings_count</th>\n      <th>host_total_listings_count</th>\n      <th>...</th>\n      <th>review_scores_value</th>\n      <th>instant_bookable</th>\n      <th>calculated_host_listings_count</th>\n      <th>calculated_host_listings_count_entire_homes</th>\n      <th>calculated_host_listings_count_private_rooms</th>\n      <th>calculated_host_listings_count_shared_rooms</th>\n      <th>reviews_per_month</th>\n      <th>city</th>\n      <th>has_license</th>\n      <th>is_bathroom_private</th>\n    </tr>\n  </thead>\n  <tbody>\n    <tr>\n      <th>0</th>\n      <td>2818</td>\n      <td>3159</td>\n      <td>2008-09-24</td>\n      <td>within an hour</td>\n      <td>1.0</td>\n      <td>1.00</td>\n      <td>t</td>\n      <td>Indische Buurt</td>\n      <td>1</td>\n      <td>1</td>\n      <td>...</td>\n      <td>4.82</td>\n      <td>t</td>\n      <td>1</td>\n      <td>0</td>\n      <td>1</td>\n      <td>0</td>\n      <td>1.81</td>\n      <td>Amsterdam</td>\n      <td>t</td>\n      <td>f</td>\n    </tr>\n    <tr>\n      <th>1</th>\n      <td>20168</td>\n      <td>59484</td>\n      <td>2009-12-02</td>\n      <td>within an hour</td>\n      <td>1.0</td>\n      <td>0.98</td>\n      <td>f</td>\n      <td>Grachtengordel</td>\n      <td>2</td>\n      <td>2</td>\n      <td>...</td>\n      <td>4.49</td>\n      <td>t</td>\n      <td>2</td>\n      <td>0</td>\n      <td>2</td>\n      <td>0</td>\n      <td>2.30</td>\n      <td>Amsterdam</td>\n      <td>t</td>\n      <td>t</td>\n    </tr>\n    <tr>\n      <th>2</th>\n      <td>27886</td>\n      <td>97647</td>\n      <td>2010-03-23</td>\n      <td>within an hour</td>\n      <td>1.0</td>\n      <td>1.00</td>\n      <td>t</td>\n      <td>Westelijke Eilanden</td>\n      <td>1</td>\n      <td>1</td>\n      <td>...</td>\n      <td>4.79</td>\n      <td>t</td>\n      <td>1</td>\n      <td>0</td>\n      <td>1</td>\n      <td>0</td>\n      <td>1.84</td>\n      <td>Amsterdam</td>\n      <td>t</td>\n      <td>f</td>\n    </tr>\n    <tr>\n      <th>3</th>\n      <td>28871</td>\n      <td>124245</td>\n      <td>2010-05-13</td>\n      <td>within an hour</td>\n      <td>1.0</td>\n      <td>0.99</td>\n      <td>t</td>\n      <td>Amsterdam Centrum</td>\n      <td>2</td>\n      <td>2</td>\n      <td>...</td>\n      <td>4.82</td>\n      <td>f</td>\n      <td>2</td>\n      <td>0</td>\n      <td>2</td>\n      <td>0</td>\n      <td>2.70</td>\n      <td>Amsterdam</td>\n      <td>t</td>\n      <td>f</td>\n    </tr>\n    <tr>\n      <th>4</th>\n      <td>29051</td>\n      <td>124245</td>\n      <td>2010-05-13</td>\n      <td>within an hour</td>\n      <td>1.0</td>\n      <td>0.99</td>\n      <td>t</td>\n      <td>Amsterdam Centrum</td>\n      <td>2</td>\n      <td>2</td>\n      <td>...</td>\n      <td>4.75</td>\n      <td>f</td>\n      <td>2</td>\n      <td>0</td>\n      <td>2</td>\n      <td>0</td>\n      <td>3.98</td>\n      <td>Amsterdam</td>\n      <td>t</td>\n      <td>f</td>\n    </tr>\n  </tbody>\n</table>\n<p>5 rows × 57 columns</p>\n</div>"
     },
     "execution_count": 3,
     "metadata": {},
     "output_type": "execute_result"
    }
   ],
   "source": [
    "df.head()"
   ],
   "metadata": {
    "collapsed": false,
    "pycharm": {
     "name": "#%%\n"
    }
   }
  },
  {
   "cell_type": "code",
   "execution_count": 4,
   "outputs": [],
   "source": [
    "df = df.drop(columns=[\"id\"])"
   ],
   "metadata": {
    "collapsed": false,
    "pycharm": {
     "name": "#%%\n"
    }
   }
  },
  {
   "cell_type": "markdown",
   "source": [
    "# Preprocess Data"
   ],
   "metadata": {
    "collapsed": false,
    "pycharm": {
     "name": "#%% md\n"
    }
   }
  },
  {
   "cell_type": "markdown",
   "source": [
    "### Drop Outliers"
   ],
   "metadata": {
    "collapsed": false,
    "pycharm": {
     "name": "#%% md\n"
    }
   }
  },
  {
   "cell_type": "code",
   "execution_count": 5,
   "outputs": [],
   "source": [
    "df = df[(0 < df[\"price\"]) & (df[\"price\"] < 2000)]"
   ],
   "metadata": {
    "collapsed": false,
    "pycharm": {
     "name": "#%%\n"
    }
   }
  },
  {
   "cell_type": "markdown",
   "source": [
    "### Pick Target & Split Data"
   ],
   "metadata": {
    "collapsed": false,
    "pycharm": {
     "name": "#%% md\n"
    }
   }
  },
  {
   "cell_type": "code",
   "execution_count": 6,
   "outputs": [
    {
     "data": {
      "text/plain": "0"
     },
     "execution_count": 6,
     "metadata": {},
     "output_type": "execute_result"
    }
   ],
   "source": [
    "df[\"price\"].isna().sum()"
   ],
   "metadata": {
    "collapsed": false,
    "pycharm": {
     "name": "#%%\n"
    }
   }
  },
  {
   "cell_type": "code",
   "execution_count": 7,
   "outputs": [],
   "source": [
    "X = df.drop(columns=[\"price\"])\n",
    "y = df[\"price\"]"
   ],
   "metadata": {
    "collapsed": false,
    "pycharm": {
     "name": "#%%\n"
    }
   }
  },
  {
   "cell_type": "code",
   "execution_count": 8,
   "outputs": [],
   "source": [
    "X_train, X_test, y_train, y_test = train_test_split(X, y, train_size=0.8, random_state=42, shuffle=True)"
   ],
   "metadata": {
    "collapsed": false,
    "pycharm": {
     "name": "#%%\n"
    }
   }
  },
  {
   "cell_type": "code",
   "execution_count": 9,
   "outputs": [
    {
     "data": {
      "text/plain": "5728"
     },
     "execution_count": 9,
     "metadata": {},
     "output_type": "execute_result"
    }
   ],
   "source": [
    "len(X_train)"
   ],
   "metadata": {
    "collapsed": false,
    "pycharm": {
     "name": "#%%\n"
    }
   }
  },
  {
   "cell_type": "code",
   "execution_count": 10,
   "outputs": [
    {
     "data": {
      "text/plain": "1432"
     },
     "execution_count": 10,
     "metadata": {},
     "output_type": "execute_result"
    }
   ],
   "source": [
    "len(X_test)"
   ],
   "metadata": {
    "collapsed": false,
    "pycharm": {
     "name": "#%%\n"
    }
   }
  },
  {
   "cell_type": "code",
   "execution_count": 10,
   "outputs": [],
   "source": [],
   "metadata": {
    "collapsed": false,
    "pycharm": {
     "name": "#%%\n"
    }
   }
  },
  {
   "cell_type": "markdown",
   "source": [
    "### Transform DateTime Features"
   ],
   "metadata": {
    "collapsed": false,
    "pycharm": {
     "name": "#%% md\n"
    }
   }
  },
  {
   "cell_type": "code",
   "execution_count": 11,
   "outputs": [],
   "source": [
    "def compute_time_delta(df: pd.DataFrame, columns: List[str], min_max_scaler: Optional[MinMaxScaler] = None) -> Tuple[pd.DataFrame, MinMaxScaler]:\n",
    "    for column in columns:\n",
    "        df[column] = pd.to_datetime(df[column], format=\"%Y-%m-%d\")\n",
    "    df[columns] = df[columns].apply(lambda row: [item.value for item in row], axis=1, result_type='expand')\n",
    "\n",
    "    if min_max_scaler is None:\n",
    "        min_max_scaler = MinMaxScaler()\n",
    "        df[columns] = min_max_scaler.fit_transform(df[columns])\n",
    "    else:\n",
    "        df[columns] = min_max_scaler.transform(df[columns])\n",
    "\n",
    "    return df, min_max_scaler"
   ],
   "metadata": {
    "collapsed": false,
    "pycharm": {
     "name": "#%%\n"
    }
   }
  },
  {
   "cell_type": "code",
   "execution_count": 12,
   "outputs": [],
   "source": [
    "X_train, min_max_scaler = compute_time_delta(X_train, columns=[\"host_since\", \"first_review\", \"last_review\"])\n",
    "X_test, _ = compute_time_delta(X_test, columns=[\"host_since\", \"first_review\", \"last_review\"], min_max_scaler=min_max_scaler)"
   ],
   "metadata": {
    "collapsed": false,
    "pycharm": {
     "name": "#%%\n"
    }
   }
  },
  {
   "cell_type": "code",
   "execution_count": 13,
   "outputs": [
    {
     "data": {
      "text/plain": "        host_id  host_since  host_response_time  host_response_rate  \\\n5269  420673373    0.958782      within an hour                1.00   \n5444  429206111    0.970761      within an hour                0.91   \n7029  293464674    0.812589  within a few hours                1.00   \n7134   80550302    0.575431      within an hour                0.75   \n4457  237371423    0.765076      within an hour                0.92   \n\n      host_acceptance_rate host_is_superhost host_neighbourhood  \\\n5269                  1.00                 f                NaN   \n5444                  1.00                 f                NaN   \n7029                  1.00                 f                NaN   \n7134                  0.90                 f                NaN   \n4457                  0.99                 f                NaN   \n\n      host_listings_count  host_total_listings_count  \\\n5269                    0                          0   \n5444                    0                          0   \n7029                    1                          1   \n7134                    1                          1   \n4457                    8                          8   \n\n                                     host_verifications  ...  \\\n5269                                 ['email', 'phone']  ...   \n5444                                 ['email', 'phone']  ...   \n7029  ['email', 'phone', 'jumio', 'offline_governmen...  ...   \n7134  ['email', 'phone', 'facebook', 'reviews', 'off...  ...   \n4457  ['email', 'phone', 'offline_government_id', 's...  ...   \n\n     review_scores_value instant_bookable calculated_host_listings_count  \\\n5269                4.86                t                              1   \n5444                5.00                t                             10   \n7029                3.00                t                              1   \n7134                 NaN                t                              3   \n4457                4.61                t                              9   \n\n      calculated_host_listings_count_entire_homes  \\\n5269                                            1   \n5444                                           10   \n7029                                            0   \n7134                                            0   \n4457                                            0   \n\n      calculated_host_listings_count_private_rooms  \\\n5269                                             0   \n5444                                             0   \n7029                                             1   \n7134                                             3   \n4457                                             9   \n\n     calculated_host_listings_count_shared_rooms reviews_per_month       city  \\\n5269                                           0              1.41  Amsterdam   \n5444                                           0              0.79  Amsterdam   \n7029                                           0              0.36  Rotterdam   \n7134                                           0               NaN  Rotterdam   \n4457                                           0              1.89  Amsterdam   \n\n      has_license  is_bathroom_private  \n5269            t                    f  \n5444            t                    f  \n7029            t                    f  \n7134            t                    f  \n4457            t                    f  \n\n[5 rows x 55 columns]",
      "text/html": "<div>\n<style scoped>\n    .dataframe tbody tr th:only-of-type {\n        vertical-align: middle;\n    }\n\n    .dataframe tbody tr th {\n        vertical-align: top;\n    }\n\n    .dataframe thead th {\n        text-align: right;\n    }\n</style>\n<table border=\"1\" class=\"dataframe\">\n  <thead>\n    <tr style=\"text-align: right;\">\n      <th></th>\n      <th>host_id</th>\n      <th>host_since</th>\n      <th>host_response_time</th>\n      <th>host_response_rate</th>\n      <th>host_acceptance_rate</th>\n      <th>host_is_superhost</th>\n      <th>host_neighbourhood</th>\n      <th>host_listings_count</th>\n      <th>host_total_listings_count</th>\n      <th>host_verifications</th>\n      <th>...</th>\n      <th>review_scores_value</th>\n      <th>instant_bookable</th>\n      <th>calculated_host_listings_count</th>\n      <th>calculated_host_listings_count_entire_homes</th>\n      <th>calculated_host_listings_count_private_rooms</th>\n      <th>calculated_host_listings_count_shared_rooms</th>\n      <th>reviews_per_month</th>\n      <th>city</th>\n      <th>has_license</th>\n      <th>is_bathroom_private</th>\n    </tr>\n  </thead>\n  <tbody>\n    <tr>\n      <th>5269</th>\n      <td>420673373</td>\n      <td>0.958782</td>\n      <td>within an hour</td>\n      <td>1.00</td>\n      <td>1.00</td>\n      <td>f</td>\n      <td>NaN</td>\n      <td>0</td>\n      <td>0</td>\n      <td>['email', 'phone']</td>\n      <td>...</td>\n      <td>4.86</td>\n      <td>t</td>\n      <td>1</td>\n      <td>1</td>\n      <td>0</td>\n      <td>0</td>\n      <td>1.41</td>\n      <td>Amsterdam</td>\n      <td>t</td>\n      <td>f</td>\n    </tr>\n    <tr>\n      <th>5444</th>\n      <td>429206111</td>\n      <td>0.970761</td>\n      <td>within an hour</td>\n      <td>0.91</td>\n      <td>1.00</td>\n      <td>f</td>\n      <td>NaN</td>\n      <td>0</td>\n      <td>0</td>\n      <td>['email', 'phone']</td>\n      <td>...</td>\n      <td>5.00</td>\n      <td>t</td>\n      <td>10</td>\n      <td>10</td>\n      <td>0</td>\n      <td>0</td>\n      <td>0.79</td>\n      <td>Amsterdam</td>\n      <td>t</td>\n      <td>f</td>\n    </tr>\n    <tr>\n      <th>7029</th>\n      <td>293464674</td>\n      <td>0.812589</td>\n      <td>within a few hours</td>\n      <td>1.00</td>\n      <td>1.00</td>\n      <td>f</td>\n      <td>NaN</td>\n      <td>1</td>\n      <td>1</td>\n      <td>['email', 'phone', 'jumio', 'offline_governmen...</td>\n      <td>...</td>\n      <td>3.00</td>\n      <td>t</td>\n      <td>1</td>\n      <td>0</td>\n      <td>1</td>\n      <td>0</td>\n      <td>0.36</td>\n      <td>Rotterdam</td>\n      <td>t</td>\n      <td>f</td>\n    </tr>\n    <tr>\n      <th>7134</th>\n      <td>80550302</td>\n      <td>0.575431</td>\n      <td>within an hour</td>\n      <td>0.75</td>\n      <td>0.90</td>\n      <td>f</td>\n      <td>NaN</td>\n      <td>1</td>\n      <td>1</td>\n      <td>['email', 'phone', 'facebook', 'reviews', 'off...</td>\n      <td>...</td>\n      <td>NaN</td>\n      <td>t</td>\n      <td>3</td>\n      <td>0</td>\n      <td>3</td>\n      <td>0</td>\n      <td>NaN</td>\n      <td>Rotterdam</td>\n      <td>t</td>\n      <td>f</td>\n    </tr>\n    <tr>\n      <th>4457</th>\n      <td>237371423</td>\n      <td>0.765076</td>\n      <td>within an hour</td>\n      <td>0.92</td>\n      <td>0.99</td>\n      <td>f</td>\n      <td>NaN</td>\n      <td>8</td>\n      <td>8</td>\n      <td>['email', 'phone', 'offline_government_id', 's...</td>\n      <td>...</td>\n      <td>4.61</td>\n      <td>t</td>\n      <td>9</td>\n      <td>0</td>\n      <td>9</td>\n      <td>0</td>\n      <td>1.89</td>\n      <td>Amsterdam</td>\n      <td>t</td>\n      <td>f</td>\n    </tr>\n  </tbody>\n</table>\n<p>5 rows × 55 columns</p>\n</div>"
     },
     "execution_count": 13,
     "metadata": {},
     "output_type": "execute_result"
    }
   ],
   "source": [
    "X_train.head()"
   ],
   "metadata": {
    "collapsed": false,
    "pycharm": {
     "name": "#%%\n"
    }
   }
  },
  {
   "cell_type": "markdown",
   "source": [
    "### List to Columns"
   ],
   "metadata": {
    "collapsed": false,
    "pycharm": {
     "name": "#%% md\n"
    }
   }
  },
  {
   "cell_type": "code",
   "execution_count": 14,
   "outputs": [],
   "source": [
    "def str_list_to_list(item: str) -> List[str]:\n",
    "    return eval(item)\n",
    "\n",
    "def list_to_columns(df: pd.DataFrame, column: str, most_common_n: int = 5, most_frequent_columns: Optional[List[str]] = None) -> Tuple[pd.DataFrame, List[str]]:\n",
    "    df = df.copy()\n",
    "\n",
    "    rows = df[column].transform(lambda item: str_list_to_list(item))\n",
    "\n",
    "    if most_frequent_columns is None:\n",
    "        counter = Counter()\n",
    "        for row in rows:\n",
    "            for item in row:\n",
    "                counter[item] += 1\n",
    "        columns = [c[0] for c in counter.most_common(most_common_n)]\n",
    "    else:\n",
    "        columns = most_frequent_columns[:most_common_n]\n",
    "    rows = [\n",
    "        [\"t\" if col in row else \"f\" for col in columns]\n",
    "        for row in rows\n",
    "    ]\n",
    "    column_names = [f\"{column}_{c}\" for c in columns]\n",
    "    df[column_names] = rows\n",
    "\n",
    "    df = df.drop(columns=[column])\n",
    "\n",
    "    return df, columns"
   ],
   "metadata": {
    "collapsed": false,
    "pycharm": {
     "name": "#%%\n"
    }
   }
  },
  {
   "cell_type": "code",
   "execution_count": 15,
   "outputs": [],
   "source": [
    "X_train, columns_host_verifications = list_to_columns(X_train, column=\"host_verifications\")\n",
    "X_test, _ = list_to_columns(X_test, column=\"host_verifications\", most_frequent_columns=columns_host_verifications)"
   ],
   "metadata": {
    "collapsed": false,
    "pycharm": {
     "name": "#%%\n"
    }
   }
  },
  {
   "cell_type": "code",
   "execution_count": 16,
   "outputs": [],
   "source": [
    "X_train, columns_amenities = list_to_columns(X_train, column=\"amenities\", most_common_n=10)\n",
    "X_test, _ = list_to_columns(X_test, column=\"amenities\", most_frequent_columns=columns_amenities, most_common_n=10)"
   ],
   "metadata": {
    "collapsed": false,
    "pycharm": {
     "name": "#%%\n"
    }
   }
  },
  {
   "cell_type": "code",
   "execution_count": 17,
   "outputs": [
    {
     "data": {
      "text/plain": "        host_id  host_since  host_response_time  host_response_rate  \\\n5269  420673373    0.958782      within an hour                1.00   \n5444  429206111    0.970761      within an hour                0.91   \n7029  293464674    0.812589  within a few hours                1.00   \n7134   80550302    0.575431      within an hour                0.75   \n4457  237371423    0.765076      within an hour                0.92   \n\n      host_acceptance_rate host_is_superhost host_neighbourhood  \\\n5269                  1.00                 f                NaN   \n5444                  1.00                 f                NaN   \n7029                  1.00                 f                NaN   \n7134                  0.90                 f                NaN   \n4457                  0.99                 f                NaN   \n\n      host_listings_count  host_total_listings_count host_has_profile_pic  \\\n5269                    0                          0                    t   \n5444                    0                          0                    t   \n7029                    1                          1                    t   \n7134                    1                          1                    t   \n4457                    8                          8                    t   \n\n      ... amenities_Wifi amenities_Essentials  amenities_Smoke alarm  \\\n5269  ...              t                    t                      t   \n5444  ...              t                    f                      t   \n7029  ...              t                    t                      t   \n7134  ...              t                    t                      f   \n4457  ...              t                    t                      t   \n\n      amenities_Heating amenities_Hangers amenities_Long term stays allowed  \\\n5269                  f                 t                                 t   \n5444                  f                 f                                 t   \n7029                  f                 f                                 t   \n7134                  t                 t                                 t   \n4457                  t                 t                                 t   \n\n      amenities_Kitchen  amenities_Hair dryer  amenities_Hot water  \\\n5269                  t                     f                    t   \n5444                  t                     f                    f   \n7029                  t                     t                    f   \n7134                  t                     t                    t   \n4457                  f                     f                    f   \n\n      amenities_Iron  \n5269               f  \n5444               f  \n7029               f  \n7134               f  \n4457               f  \n\n[5 rows x 68 columns]",
      "text/html": "<div>\n<style scoped>\n    .dataframe tbody tr th:only-of-type {\n        vertical-align: middle;\n    }\n\n    .dataframe tbody tr th {\n        vertical-align: top;\n    }\n\n    .dataframe thead th {\n        text-align: right;\n    }\n</style>\n<table border=\"1\" class=\"dataframe\">\n  <thead>\n    <tr style=\"text-align: right;\">\n      <th></th>\n      <th>host_id</th>\n      <th>host_since</th>\n      <th>host_response_time</th>\n      <th>host_response_rate</th>\n      <th>host_acceptance_rate</th>\n      <th>host_is_superhost</th>\n      <th>host_neighbourhood</th>\n      <th>host_listings_count</th>\n      <th>host_total_listings_count</th>\n      <th>host_has_profile_pic</th>\n      <th>...</th>\n      <th>amenities_Wifi</th>\n      <th>amenities_Essentials</th>\n      <th>amenities_Smoke alarm</th>\n      <th>amenities_Heating</th>\n      <th>amenities_Hangers</th>\n      <th>amenities_Long term stays allowed</th>\n      <th>amenities_Kitchen</th>\n      <th>amenities_Hair dryer</th>\n      <th>amenities_Hot water</th>\n      <th>amenities_Iron</th>\n    </tr>\n  </thead>\n  <tbody>\n    <tr>\n      <th>5269</th>\n      <td>420673373</td>\n      <td>0.958782</td>\n      <td>within an hour</td>\n      <td>1.00</td>\n      <td>1.00</td>\n      <td>f</td>\n      <td>NaN</td>\n      <td>0</td>\n      <td>0</td>\n      <td>t</td>\n      <td>...</td>\n      <td>t</td>\n      <td>t</td>\n      <td>t</td>\n      <td>f</td>\n      <td>t</td>\n      <td>t</td>\n      <td>t</td>\n      <td>f</td>\n      <td>t</td>\n      <td>f</td>\n    </tr>\n    <tr>\n      <th>5444</th>\n      <td>429206111</td>\n      <td>0.970761</td>\n      <td>within an hour</td>\n      <td>0.91</td>\n      <td>1.00</td>\n      <td>f</td>\n      <td>NaN</td>\n      <td>0</td>\n      <td>0</td>\n      <td>t</td>\n      <td>...</td>\n      <td>t</td>\n      <td>f</td>\n      <td>t</td>\n      <td>f</td>\n      <td>f</td>\n      <td>t</td>\n      <td>t</td>\n      <td>f</td>\n      <td>f</td>\n      <td>f</td>\n    </tr>\n    <tr>\n      <th>7029</th>\n      <td>293464674</td>\n      <td>0.812589</td>\n      <td>within a few hours</td>\n      <td>1.00</td>\n      <td>1.00</td>\n      <td>f</td>\n      <td>NaN</td>\n      <td>1</td>\n      <td>1</td>\n      <td>t</td>\n      <td>...</td>\n      <td>t</td>\n      <td>t</td>\n      <td>t</td>\n      <td>f</td>\n      <td>f</td>\n      <td>t</td>\n      <td>t</td>\n      <td>t</td>\n      <td>f</td>\n      <td>f</td>\n    </tr>\n    <tr>\n      <th>7134</th>\n      <td>80550302</td>\n      <td>0.575431</td>\n      <td>within an hour</td>\n      <td>0.75</td>\n      <td>0.90</td>\n      <td>f</td>\n      <td>NaN</td>\n      <td>1</td>\n      <td>1</td>\n      <td>t</td>\n      <td>...</td>\n      <td>t</td>\n      <td>t</td>\n      <td>f</td>\n      <td>t</td>\n      <td>t</td>\n      <td>t</td>\n      <td>t</td>\n      <td>t</td>\n      <td>t</td>\n      <td>f</td>\n    </tr>\n    <tr>\n      <th>4457</th>\n      <td>237371423</td>\n      <td>0.765076</td>\n      <td>within an hour</td>\n      <td>0.92</td>\n      <td>0.99</td>\n      <td>f</td>\n      <td>NaN</td>\n      <td>8</td>\n      <td>8</td>\n      <td>t</td>\n      <td>...</td>\n      <td>t</td>\n      <td>t</td>\n      <td>t</td>\n      <td>t</td>\n      <td>t</td>\n      <td>t</td>\n      <td>f</td>\n      <td>f</td>\n      <td>f</td>\n      <td>f</td>\n    </tr>\n  </tbody>\n</table>\n<p>5 rows × 68 columns</p>\n</div>"
     },
     "execution_count": 17,
     "metadata": {},
     "output_type": "execute_result"
    }
   ],
   "source": [
    "X_train.head()"
   ],
   "metadata": {
    "collapsed": false,
    "pycharm": {
     "name": "#%%\n"
    }
   }
  },
  {
   "cell_type": "code",
   "execution_count": 18,
   "outputs": [
    {
     "data": {
      "text/plain": "       host_id  host_since  host_response_time  host_response_rate  \\\n1895  25677161    0.465990      within an hour                 1.0   \n6778   5923086    0.337665      within an hour                 1.0   \n240    5878526    0.337056  within a few hours                 1.0   \n4612    837675    0.208731      within an hour                 1.0   \n5698  32424525    0.489543      within an hour                 0.8   \n\n      host_acceptance_rate host_is_superhost host_neighbourhood  \\\n1895                  0.88                 t                NaN   \n6778                  0.71                 t                NaN   \n240                   0.57                 f               Oost   \n4612                  1.00                 f                NaN   \n5698                  1.00                 f                NaN   \n\n      host_listings_count  host_total_listings_count host_has_profile_pic  \\\n1895                    1                          1                    t   \n6778                    2                          2                    t   \n240                     1                          1                    t   \n4612                    1                          1                    t   \n5698                    1                          1                    t   \n\n      ... amenities_Wifi amenities_Essentials  amenities_Smoke alarm  \\\n1895  ...              f                    t                      t   \n6778  ...              t                    t                      t   \n240   ...              t                    t                      t   \n4612  ...              t                    t                      t   \n5698  ...              t                    f                      t   \n\n      amenities_Heating amenities_Hangers amenities_Long term stays allowed  \\\n1895                  f                 t                                 t   \n6778                  t                 t                                 t   \n240                   t                 t                                 t   \n4612                  t                 t                                 t   \n5698                  f                 f                                 t   \n\n      amenities_Kitchen  amenities_Hair dryer  amenities_Hot water  \\\n1895                  t                     t                    t   \n6778                  t                     t                    t   \n240                   t                     t                    t   \n4612                  t                     t                    t   \n5698                  t                     f                    f   \n\n      amenities_Iron  \n1895               t  \n6778               t  \n240                t  \n4612               t  \n5698               f  \n\n[5 rows x 68 columns]",
      "text/html": "<div>\n<style scoped>\n    .dataframe tbody tr th:only-of-type {\n        vertical-align: middle;\n    }\n\n    .dataframe tbody tr th {\n        vertical-align: top;\n    }\n\n    .dataframe thead th {\n        text-align: right;\n    }\n</style>\n<table border=\"1\" class=\"dataframe\">\n  <thead>\n    <tr style=\"text-align: right;\">\n      <th></th>\n      <th>host_id</th>\n      <th>host_since</th>\n      <th>host_response_time</th>\n      <th>host_response_rate</th>\n      <th>host_acceptance_rate</th>\n      <th>host_is_superhost</th>\n      <th>host_neighbourhood</th>\n      <th>host_listings_count</th>\n      <th>host_total_listings_count</th>\n      <th>host_has_profile_pic</th>\n      <th>...</th>\n      <th>amenities_Wifi</th>\n      <th>amenities_Essentials</th>\n      <th>amenities_Smoke alarm</th>\n      <th>amenities_Heating</th>\n      <th>amenities_Hangers</th>\n      <th>amenities_Long term stays allowed</th>\n      <th>amenities_Kitchen</th>\n      <th>amenities_Hair dryer</th>\n      <th>amenities_Hot water</th>\n      <th>amenities_Iron</th>\n    </tr>\n  </thead>\n  <tbody>\n    <tr>\n      <th>1895</th>\n      <td>25677161</td>\n      <td>0.465990</td>\n      <td>within an hour</td>\n      <td>1.0</td>\n      <td>0.88</td>\n      <td>t</td>\n      <td>NaN</td>\n      <td>1</td>\n      <td>1</td>\n      <td>t</td>\n      <td>...</td>\n      <td>f</td>\n      <td>t</td>\n      <td>t</td>\n      <td>f</td>\n      <td>t</td>\n      <td>t</td>\n      <td>t</td>\n      <td>t</td>\n      <td>t</td>\n      <td>t</td>\n    </tr>\n    <tr>\n      <th>6778</th>\n      <td>5923086</td>\n      <td>0.337665</td>\n      <td>within an hour</td>\n      <td>1.0</td>\n      <td>0.71</td>\n      <td>t</td>\n      <td>NaN</td>\n      <td>2</td>\n      <td>2</td>\n      <td>t</td>\n      <td>...</td>\n      <td>t</td>\n      <td>t</td>\n      <td>t</td>\n      <td>t</td>\n      <td>t</td>\n      <td>t</td>\n      <td>t</td>\n      <td>t</td>\n      <td>t</td>\n      <td>t</td>\n    </tr>\n    <tr>\n      <th>240</th>\n      <td>5878526</td>\n      <td>0.337056</td>\n      <td>within a few hours</td>\n      <td>1.0</td>\n      <td>0.57</td>\n      <td>f</td>\n      <td>Oost</td>\n      <td>1</td>\n      <td>1</td>\n      <td>t</td>\n      <td>...</td>\n      <td>t</td>\n      <td>t</td>\n      <td>t</td>\n      <td>t</td>\n      <td>t</td>\n      <td>t</td>\n      <td>t</td>\n      <td>t</td>\n      <td>t</td>\n      <td>t</td>\n    </tr>\n    <tr>\n      <th>4612</th>\n      <td>837675</td>\n      <td>0.208731</td>\n      <td>within an hour</td>\n      <td>1.0</td>\n      <td>1.00</td>\n      <td>f</td>\n      <td>NaN</td>\n      <td>1</td>\n      <td>1</td>\n      <td>t</td>\n      <td>...</td>\n      <td>t</td>\n      <td>t</td>\n      <td>t</td>\n      <td>t</td>\n      <td>t</td>\n      <td>t</td>\n      <td>t</td>\n      <td>t</td>\n      <td>t</td>\n      <td>t</td>\n    </tr>\n    <tr>\n      <th>5698</th>\n      <td>32424525</td>\n      <td>0.489543</td>\n      <td>within an hour</td>\n      <td>0.8</td>\n      <td>1.00</td>\n      <td>f</td>\n      <td>NaN</td>\n      <td>1</td>\n      <td>1</td>\n      <td>t</td>\n      <td>...</td>\n      <td>t</td>\n      <td>f</td>\n      <td>t</td>\n      <td>f</td>\n      <td>f</td>\n      <td>t</td>\n      <td>t</td>\n      <td>f</td>\n      <td>f</td>\n      <td>f</td>\n    </tr>\n  </tbody>\n</table>\n<p>5 rows × 68 columns</p>\n</div>"
     },
     "execution_count": 18,
     "metadata": {},
     "output_type": "execute_result"
    }
   ],
   "source": [
    "X_test.head()"
   ],
   "metadata": {
    "collapsed": false,
    "pycharm": {
     "name": "#%%\n"
    }
   }
  },
  {
   "cell_type": "code",
   "execution_count": 19,
   "outputs": [
    {
     "data": {
      "text/plain": "set()"
     },
     "execution_count": 19,
     "metadata": {},
     "output_type": "execute_result"
    }
   ],
   "source": [
    "set(X_test.columns) - set(X_train.columns)"
   ],
   "metadata": {
    "collapsed": false,
    "pycharm": {
     "name": "#%%\n"
    }
   }
  },
  {
   "cell_type": "markdown",
   "source": [
    "### Impute Values"
   ],
   "metadata": {
    "collapsed": false,
    "pycharm": {
     "name": "#%% md\n"
    }
   }
  },
  {
   "cell_type": "code",
   "execution_count": 20,
   "outputs": [
    {
     "data": {
      "text/plain": "host_response_time             True\nhost_neighbourhood             True\nbedrooms                       True\nbeds                           True\nminimum_minimum_nights         True\nmaximum_minimum_nights         True\nminimum_maximum_nights         True\nmaximum_maximum_nights         True\nminimum_nights_avg_ntm         True\nmaximum_nights_avg_ntm         True\nreview_scores_rating           True\nreview_scores_accuracy         True\nreview_scores_cleanliness      True\nreview_scores_checkin          True\nreview_scores_communication    True\nreview_scores_location         True\nreview_scores_value            True\nreviews_per_month              True\ndtype: bool"
     },
     "execution_count": 20,
     "metadata": {},
     "output_type": "execute_result"
    }
   ],
   "source": [
    "nans_mask = (X_train.isna() | X_test.isna()).any(axis=0)\n",
    "nans_mask = nans_mask[nans_mask == True]\n",
    "nans_mask"
   ],
   "metadata": {
    "collapsed": false,
    "pycharm": {
     "name": "#%%\n"
    }
   }
  },
  {
   "cell_type": "markdown",
   "source": [
    "#### Categorical"
   ],
   "metadata": {
    "collapsed": false,
    "pycharm": {
     "name": "#%% md\n"
    }
   }
  },
  {
   "cell_type": "code",
   "execution_count": 21,
   "outputs": [],
   "source": [
    "OBJECT_CATEGORICAL_VARIABLES = X_train.select_dtypes(include=[\"object\"]).columns"
   ],
   "metadata": {
    "collapsed": false,
    "pycharm": {
     "name": "#%%\n"
    }
   }
  },
  {
   "cell_type": "code",
   "execution_count": 22,
   "outputs": [],
   "source": [
    "object_categorical_mode_imputer = SimpleImputer(strategy=\"most_frequent\")\n",
    "X_train[OBJECT_CATEGORICAL_VARIABLES] = object_categorical_mode_imputer.fit_transform(X_train[OBJECT_CATEGORICAL_VARIABLES])"
   ],
   "metadata": {
    "collapsed": false,
    "pycharm": {
     "name": "#%%\n"
    }
   }
  },
  {
   "cell_type": "code",
   "execution_count": 23,
   "outputs": [],
   "source": [
    "X_test[OBJECT_CATEGORICAL_VARIABLES] = object_categorical_mode_imputer.transform(X_test[OBJECT_CATEGORICAL_VARIABLES])"
   ],
   "metadata": {
    "collapsed": false,
    "pycharm": {
     "name": "#%%\n"
    }
   }
  },
  {
   "cell_type": "code",
   "execution_count": 24,
   "outputs": [
    {
     "data": {
      "text/plain": "        host_id  host_since  host_response_time  host_response_rate  \\\n5269  420673373    0.958782      within an hour                1.00   \n5444  429206111    0.970761      within an hour                0.91   \n7029  293464674    0.812589  within a few hours                1.00   \n7134   80550302    0.575431      within an hour                0.75   \n4457  237371423    0.765076      within an hour                0.92   \n\n      host_acceptance_rate host_is_superhost host_neighbourhood  \\\n5269                  1.00                 f           Oud-West   \n5444                  1.00                 f           Oud-West   \n7029                  1.00                 f           Oud-West   \n7134                  0.90                 f           Oud-West   \n4457                  0.99                 f           Oud-West   \n\n      host_listings_count  host_total_listings_count host_has_profile_pic  \\\n5269                    0                          0                    t   \n5444                    0                          0                    t   \n7029                    1                          1                    t   \n7134                    1                          1                    t   \n4457                    8                          8                    t   \n\n      ... amenities_Wifi amenities_Essentials  amenities_Smoke alarm  \\\n5269  ...              t                    t                      t   \n5444  ...              t                    f                      t   \n7029  ...              t                    t                      t   \n7134  ...              t                    t                      f   \n4457  ...              t                    t                      t   \n\n      amenities_Heating amenities_Hangers amenities_Long term stays allowed  \\\n5269                  f                 t                                 t   \n5444                  f                 f                                 t   \n7029                  f                 f                                 t   \n7134                  t                 t                                 t   \n4457                  t                 t                                 t   \n\n      amenities_Kitchen  amenities_Hair dryer  amenities_Hot water  \\\n5269                  t                     f                    t   \n5444                  t                     f                    f   \n7029                  t                     t                    f   \n7134                  t                     t                    t   \n4457                  f                     f                    f   \n\n      amenities_Iron  \n5269               f  \n5444               f  \n7029               f  \n7134               f  \n4457               f  \n\n[5 rows x 68 columns]",
      "text/html": "<div>\n<style scoped>\n    .dataframe tbody tr th:only-of-type {\n        vertical-align: middle;\n    }\n\n    .dataframe tbody tr th {\n        vertical-align: top;\n    }\n\n    .dataframe thead th {\n        text-align: right;\n    }\n</style>\n<table border=\"1\" class=\"dataframe\">\n  <thead>\n    <tr style=\"text-align: right;\">\n      <th></th>\n      <th>host_id</th>\n      <th>host_since</th>\n      <th>host_response_time</th>\n      <th>host_response_rate</th>\n      <th>host_acceptance_rate</th>\n      <th>host_is_superhost</th>\n      <th>host_neighbourhood</th>\n      <th>host_listings_count</th>\n      <th>host_total_listings_count</th>\n      <th>host_has_profile_pic</th>\n      <th>...</th>\n      <th>amenities_Wifi</th>\n      <th>amenities_Essentials</th>\n      <th>amenities_Smoke alarm</th>\n      <th>amenities_Heating</th>\n      <th>amenities_Hangers</th>\n      <th>amenities_Long term stays allowed</th>\n      <th>amenities_Kitchen</th>\n      <th>amenities_Hair dryer</th>\n      <th>amenities_Hot water</th>\n      <th>amenities_Iron</th>\n    </tr>\n  </thead>\n  <tbody>\n    <tr>\n      <th>5269</th>\n      <td>420673373</td>\n      <td>0.958782</td>\n      <td>within an hour</td>\n      <td>1.00</td>\n      <td>1.00</td>\n      <td>f</td>\n      <td>Oud-West</td>\n      <td>0</td>\n      <td>0</td>\n      <td>t</td>\n      <td>...</td>\n      <td>t</td>\n      <td>t</td>\n      <td>t</td>\n      <td>f</td>\n      <td>t</td>\n      <td>t</td>\n      <td>t</td>\n      <td>f</td>\n      <td>t</td>\n      <td>f</td>\n    </tr>\n    <tr>\n      <th>5444</th>\n      <td>429206111</td>\n      <td>0.970761</td>\n      <td>within an hour</td>\n      <td>0.91</td>\n      <td>1.00</td>\n      <td>f</td>\n      <td>Oud-West</td>\n      <td>0</td>\n      <td>0</td>\n      <td>t</td>\n      <td>...</td>\n      <td>t</td>\n      <td>f</td>\n      <td>t</td>\n      <td>f</td>\n      <td>f</td>\n      <td>t</td>\n      <td>t</td>\n      <td>f</td>\n      <td>f</td>\n      <td>f</td>\n    </tr>\n    <tr>\n      <th>7029</th>\n      <td>293464674</td>\n      <td>0.812589</td>\n      <td>within a few hours</td>\n      <td>1.00</td>\n      <td>1.00</td>\n      <td>f</td>\n      <td>Oud-West</td>\n      <td>1</td>\n      <td>1</td>\n      <td>t</td>\n      <td>...</td>\n      <td>t</td>\n      <td>t</td>\n      <td>t</td>\n      <td>f</td>\n      <td>f</td>\n      <td>t</td>\n      <td>t</td>\n      <td>t</td>\n      <td>f</td>\n      <td>f</td>\n    </tr>\n    <tr>\n      <th>7134</th>\n      <td>80550302</td>\n      <td>0.575431</td>\n      <td>within an hour</td>\n      <td>0.75</td>\n      <td>0.90</td>\n      <td>f</td>\n      <td>Oud-West</td>\n      <td>1</td>\n      <td>1</td>\n      <td>t</td>\n      <td>...</td>\n      <td>t</td>\n      <td>t</td>\n      <td>f</td>\n      <td>t</td>\n      <td>t</td>\n      <td>t</td>\n      <td>t</td>\n      <td>t</td>\n      <td>t</td>\n      <td>f</td>\n    </tr>\n    <tr>\n      <th>4457</th>\n      <td>237371423</td>\n      <td>0.765076</td>\n      <td>within an hour</td>\n      <td>0.92</td>\n      <td>0.99</td>\n      <td>f</td>\n      <td>Oud-West</td>\n      <td>8</td>\n      <td>8</td>\n      <td>t</td>\n      <td>...</td>\n      <td>t</td>\n      <td>t</td>\n      <td>t</td>\n      <td>t</td>\n      <td>t</td>\n      <td>t</td>\n      <td>f</td>\n      <td>f</td>\n      <td>f</td>\n      <td>f</td>\n    </tr>\n  </tbody>\n</table>\n<p>5 rows × 68 columns</p>\n</div>"
     },
     "execution_count": 24,
     "metadata": {},
     "output_type": "execute_result"
    }
   ],
   "source": [
    "X_train.head()"
   ],
   "metadata": {
    "collapsed": false,
    "pycharm": {
     "name": "#%%\n"
    }
   }
  },
  {
   "cell_type": "code",
   "execution_count": 25,
   "outputs": [
    {
     "data": {
      "text/plain": "       host_id  host_since  host_response_time  host_response_rate  \\\n1895  25677161    0.465990      within an hour                 1.0   \n6778   5923086    0.337665      within an hour                 1.0   \n240    5878526    0.337056  within a few hours                 1.0   \n4612    837675    0.208731      within an hour                 1.0   \n5698  32424525    0.489543      within an hour                 0.8   \n\n      host_acceptance_rate host_is_superhost host_neighbourhood  \\\n1895                  0.88                 t           Oud-West   \n6778                  0.71                 t           Oud-West   \n240                   0.57                 f               Oost   \n4612                  1.00                 f           Oud-West   \n5698                  1.00                 f           Oud-West   \n\n      host_listings_count  host_total_listings_count host_has_profile_pic  \\\n1895                    1                          1                    t   \n6778                    2                          2                    t   \n240                     1                          1                    t   \n4612                    1                          1                    t   \n5698                    1                          1                    t   \n\n      ... amenities_Wifi amenities_Essentials  amenities_Smoke alarm  \\\n1895  ...              f                    t                      t   \n6778  ...              t                    t                      t   \n240   ...              t                    t                      t   \n4612  ...              t                    t                      t   \n5698  ...              t                    f                      t   \n\n      amenities_Heating amenities_Hangers amenities_Long term stays allowed  \\\n1895                  f                 t                                 t   \n6778                  t                 t                                 t   \n240                   t                 t                                 t   \n4612                  t                 t                                 t   \n5698                  f                 f                                 t   \n\n      amenities_Kitchen  amenities_Hair dryer  amenities_Hot water  \\\n1895                  t                     t                    t   \n6778                  t                     t                    t   \n240                   t                     t                    t   \n4612                  t                     t                    t   \n5698                  t                     f                    f   \n\n      amenities_Iron  \n1895               t  \n6778               t  \n240                t  \n4612               t  \n5698               f  \n\n[5 rows x 68 columns]",
      "text/html": "<div>\n<style scoped>\n    .dataframe tbody tr th:only-of-type {\n        vertical-align: middle;\n    }\n\n    .dataframe tbody tr th {\n        vertical-align: top;\n    }\n\n    .dataframe thead th {\n        text-align: right;\n    }\n</style>\n<table border=\"1\" class=\"dataframe\">\n  <thead>\n    <tr style=\"text-align: right;\">\n      <th></th>\n      <th>host_id</th>\n      <th>host_since</th>\n      <th>host_response_time</th>\n      <th>host_response_rate</th>\n      <th>host_acceptance_rate</th>\n      <th>host_is_superhost</th>\n      <th>host_neighbourhood</th>\n      <th>host_listings_count</th>\n      <th>host_total_listings_count</th>\n      <th>host_has_profile_pic</th>\n      <th>...</th>\n      <th>amenities_Wifi</th>\n      <th>amenities_Essentials</th>\n      <th>amenities_Smoke alarm</th>\n      <th>amenities_Heating</th>\n      <th>amenities_Hangers</th>\n      <th>amenities_Long term stays allowed</th>\n      <th>amenities_Kitchen</th>\n      <th>amenities_Hair dryer</th>\n      <th>amenities_Hot water</th>\n      <th>amenities_Iron</th>\n    </tr>\n  </thead>\n  <tbody>\n    <tr>\n      <th>1895</th>\n      <td>25677161</td>\n      <td>0.465990</td>\n      <td>within an hour</td>\n      <td>1.0</td>\n      <td>0.88</td>\n      <td>t</td>\n      <td>Oud-West</td>\n      <td>1</td>\n      <td>1</td>\n      <td>t</td>\n      <td>...</td>\n      <td>f</td>\n      <td>t</td>\n      <td>t</td>\n      <td>f</td>\n      <td>t</td>\n      <td>t</td>\n      <td>t</td>\n      <td>t</td>\n      <td>t</td>\n      <td>t</td>\n    </tr>\n    <tr>\n      <th>6778</th>\n      <td>5923086</td>\n      <td>0.337665</td>\n      <td>within an hour</td>\n      <td>1.0</td>\n      <td>0.71</td>\n      <td>t</td>\n      <td>Oud-West</td>\n      <td>2</td>\n      <td>2</td>\n      <td>t</td>\n      <td>...</td>\n      <td>t</td>\n      <td>t</td>\n      <td>t</td>\n      <td>t</td>\n      <td>t</td>\n      <td>t</td>\n      <td>t</td>\n      <td>t</td>\n      <td>t</td>\n      <td>t</td>\n    </tr>\n    <tr>\n      <th>240</th>\n      <td>5878526</td>\n      <td>0.337056</td>\n      <td>within a few hours</td>\n      <td>1.0</td>\n      <td>0.57</td>\n      <td>f</td>\n      <td>Oost</td>\n      <td>1</td>\n      <td>1</td>\n      <td>t</td>\n      <td>...</td>\n      <td>t</td>\n      <td>t</td>\n      <td>t</td>\n      <td>t</td>\n      <td>t</td>\n      <td>t</td>\n      <td>t</td>\n      <td>t</td>\n      <td>t</td>\n      <td>t</td>\n    </tr>\n    <tr>\n      <th>4612</th>\n      <td>837675</td>\n      <td>0.208731</td>\n      <td>within an hour</td>\n      <td>1.0</td>\n      <td>1.00</td>\n      <td>f</td>\n      <td>Oud-West</td>\n      <td>1</td>\n      <td>1</td>\n      <td>t</td>\n      <td>...</td>\n      <td>t</td>\n      <td>t</td>\n      <td>t</td>\n      <td>t</td>\n      <td>t</td>\n      <td>t</td>\n      <td>t</td>\n      <td>t</td>\n      <td>t</td>\n      <td>t</td>\n    </tr>\n    <tr>\n      <th>5698</th>\n      <td>32424525</td>\n      <td>0.489543</td>\n      <td>within an hour</td>\n      <td>0.8</td>\n      <td>1.00</td>\n      <td>f</td>\n      <td>Oud-West</td>\n      <td>1</td>\n      <td>1</td>\n      <td>t</td>\n      <td>...</td>\n      <td>t</td>\n      <td>f</td>\n      <td>t</td>\n      <td>f</td>\n      <td>f</td>\n      <td>t</td>\n      <td>t</td>\n      <td>f</td>\n      <td>f</td>\n      <td>f</td>\n    </tr>\n  </tbody>\n</table>\n<p>5 rows × 68 columns</p>\n</div>"
     },
     "execution_count": 25,
     "metadata": {},
     "output_type": "execute_result"
    }
   ],
   "source": [
    "X_test.head()"
   ],
   "metadata": {
    "collapsed": false,
    "pycharm": {
     "name": "#%%\n"
    }
   }
  },
  {
   "cell_type": "markdown",
   "source": [
    "### Continuous"
   ],
   "metadata": {
    "collapsed": false,
    "pycharm": {
     "name": "#%% md\n"
    }
   }
  },
  {
   "cell_type": "code",
   "execution_count": 26,
   "outputs": [
    {
     "data": {
      "text/plain": "array([dtype('int64'), dtype('O'), dtype('float64')], dtype=object)"
     },
     "execution_count": 26,
     "metadata": {},
     "output_type": "execute_result"
    }
   ],
   "source": [
    "X.dtypes.unique()"
   ],
   "metadata": {
    "collapsed": false,
    "pycharm": {
     "name": "#%%\n"
    }
   }
  },
  {
   "cell_type": "code",
   "execution_count": 27,
   "outputs": [
    {
     "data": {
      "text/plain": "bedrooms                       True\nbeds                           True\nminimum_minimum_nights         True\nmaximum_minimum_nights         True\nminimum_maximum_nights         True\nmaximum_maximum_nights         True\nminimum_nights_avg_ntm         True\nmaximum_nights_avg_ntm         True\nreview_scores_rating           True\nreview_scores_accuracy         True\nreview_scores_cleanliness      True\nreview_scores_checkin          True\nreview_scores_communication    True\nreview_scores_location         True\nreview_scores_value            True\nreviews_per_month              True\ndtype: bool"
     },
     "execution_count": 27,
     "metadata": {},
     "output_type": "execute_result"
    }
   ],
   "source": [
    "nans_mask = (X_train.isna() | X_test.isna()).any(axis=0)\n",
    "nans_mask = nans_mask[nans_mask == True]\n",
    "nans_mask"
   ],
   "metadata": {
    "collapsed": false,
    "pycharm": {
     "name": "#%%\n"
    }
   }
  },
  {
   "cell_type": "code",
   "execution_count": 28,
   "outputs": [
    {
     "data": {
      "text/plain": "['minimum_minimum_nights',\n 'bedrooms',\n 'maximum_nights_avg_ntm',\n 'reviews_per_month',\n 'minimum_maximum_nights',\n 'review_scores_rating',\n 'review_scores_accuracy',\n 'maximum_maximum_nights',\n 'review_scores_checkin',\n 'minimum_nights_avg_ntm',\n 'review_scores_cleanliness',\n 'review_scores_value',\n 'review_scores_location',\n 'beds',\n 'review_scores_communication',\n 'maximum_minimum_nights']"
     },
     "execution_count": 28,
     "metadata": {},
     "output_type": "execute_result"
    }
   ],
   "source": [
    "continuous_nan_columns = set(nans_mask.index) - set(OBJECT_CATEGORICAL_VARIABLES)\n",
    "continuous_nan_columns = list(continuous_nan_columns)\n",
    "continuous_nan_columns"
   ],
   "metadata": {
    "collapsed": false,
    "pycharm": {
     "name": "#%%\n"
    }
   }
  },
  {
   "cell_type": "code",
   "execution_count": 29,
   "outputs": [],
   "source": [
    "mean_imputer = SimpleImputer(strategy=\"mean\")\n",
    "X_train[continuous_nan_columns] = mean_imputer.fit_transform(X_train[continuous_nan_columns])"
   ],
   "metadata": {
    "collapsed": false,
    "pycharm": {
     "name": "#%%\n"
    }
   }
  },
  {
   "cell_type": "code",
   "execution_count": 30,
   "outputs": [],
   "source": [
    "X_test[continuous_nan_columns] = mean_imputer.transform(X_test[continuous_nan_columns])"
   ],
   "metadata": {
    "collapsed": false,
    "pycharm": {
     "name": "#%%\n"
    }
   }
  },
  {
   "cell_type": "markdown",
   "source": [
    "### Final Check"
   ],
   "metadata": {
    "collapsed": false,
    "pycharm": {
     "name": "#%% md\n"
    }
   }
  },
  {
   "cell_type": "code",
   "execution_count": 31,
   "outputs": [
    {
     "data": {
      "text/plain": "Series([], dtype: bool)"
     },
     "execution_count": 31,
     "metadata": {},
     "output_type": "execute_result"
    }
   ],
   "source": [
    "nans_mask = (X_train.isna() | X_test.isna()).any(axis=0)\n",
    "nans_mask = nans_mask[nans_mask == True]\n",
    "nans_mask"
   ],
   "metadata": {
    "collapsed": false,
    "pycharm": {
     "name": "#%%\n"
    }
   }
  },
  {
   "cell_type": "markdown",
   "source": [
    "Alright. We are almost ready to feed the data to the model."
   ],
   "metadata": {
    "collapsed": false,
    "pycharm": {
     "name": "#%% md\n"
    }
   }
  },
  {
   "cell_type": "markdown",
   "source": [
    "# Categorical Variables"
   ],
   "metadata": {
    "collapsed": false,
    "pycharm": {
     "name": "#%% md\n"
    }
   }
  },
  {
   "cell_type": "markdown",
   "source": [
    "The models that we indent to use can handle categorical variables as long as we map them to ordinal variables. Therefore, there is no need for OHE (or other methods)."
   ],
   "metadata": {
    "collapsed": false,
    "pycharm": {
     "name": "#%% md\n"
    }
   }
  },
  {
   "cell_type": "code",
   "execution_count": 32,
   "outputs": [],
   "source": [
    "from sklearn.base import TransformerMixin\n",
    "\n",
    "\n",
    "class FeatureTransformer(TransformerMixin):\n",
    "\n",
    "    def __init__(self, categorical_features: List[str]):\n",
    "        self.categorical_features = categorical_features\n",
    "\n",
    "    def fit(self, X):\n",
    "\n",
    "        if not isinstance(X, pd.DataFrame):\n",
    "            raise ValueError(\"Pass a pandas.DataFrame\")\n",
    "\n",
    "        if not isinstance(self.categorical_features, list):\n",
    "            raise ValueError(\n",
    "                \"Pass categorical_features as a list of column names\")\n",
    "\n",
    "        self.encoding = {}\n",
    "        for c in self.categorical_features:\n",
    "\n",
    "            _, int_id = X[c].factorize()\n",
    "            self.encoding[c] = dict(zip(list(int_id), range(0,len(int_id)+1)))\n",
    "\n",
    "        return self\n",
    "\n",
    "    def transform(self, X):\n",
    "\n",
    "        if not isinstance(X, pd.DataFrame):\n",
    "            raise ValueError(\"Pass a pandas.DataFrame\")\n",
    "\n",
    "        if not hasattr(self, 'encoding'):\n",
    "            raise AttributeError(\"FeatureTransformer must be fitted\")\n",
    "\n",
    "        df = X.drop(self.categorical_features, axis=1)\n",
    "\n",
    "        for c in sorted(self.categorical_features):\n",
    "            df[c] = X[c].map(self.encoding[c]).fillna(0)\n",
    "\n",
    "        return df"
   ],
   "metadata": {
    "collapsed": false,
    "pycharm": {
     "name": "#%%\n"
    }
   }
  },
  {
   "cell_type": "code",
   "execution_count": 33,
   "outputs": [],
   "source": [
    "encoder = FeatureTransformer(categorical_features=list(OBJECT_CATEGORICAL_VARIABLES))\n",
    "X_train = encoder.fit_transform(X_train)\n",
    "X_test = encoder.transform(X_test)"
   ],
   "metadata": {
    "collapsed": false,
    "pycharm": {
     "name": "#%%\n"
    }
   }
  },
  {
   "cell_type": "code",
   "execution_count": 34,
   "outputs": [
    {
     "data": {
      "text/plain": "        host_id  host_since  host_response_rate  host_acceptance_rate  \\\n5269  420673373    0.958782                1.00                  1.00   \n5444  429206111    0.970761                0.91                  1.00   \n7029  293464674    0.812589                1.00                  1.00   \n7134   80550302    0.575431                0.75                  0.90   \n4457  237371423    0.765076                0.92                  0.99   \n\n      host_listings_count  host_total_listings_count  latitude  longitude  \\\n5269                    0                          0  52.29860    4.95581   \n5444                    0                          0  52.36525    4.87946   \n7029                    1                          1  51.92125    4.49959   \n7134                    1                          1  51.91032    4.52203   \n4457                    8                          8  52.38586    4.87644   \n\n      accommodates  bedrooms  ...  host_verifications_email  \\\n5269             2       1.0  ...                         0   \n5444             4       1.0  ...                         0   \n7029             2       1.0  ...                         0   \n7134             1       1.0  ...                         0   \n4457             2       1.0  ...                         0   \n\n      host_verifications_government_id  host_verifications_jumio  \\\n5269                                 0                         0   \n5444                                 0                         0   \n7029                                 1                         1   \n7134                                 1                         0   \n4457                                 1                         0   \n\n      host_verifications_phone  host_verifications_reviews  instant_bookable  \\\n5269                         0                           0                 0   \n5444                         0                           0                 0   \n7029                         0                           0                 0   \n7134                         0                           1                 0   \n4457                         0                           0                 0   \n\n      is_bathroom_private  neighbourhood_cleansed  property_type  room_type  \n5269                    0                       0              0          0  \n5444                    0                       1              1          0  \n7029                    0                       2              2          1  \n7134                    0                       3              3          1  \n4457                    0                       4              4          1  \n\n[5 rows x 68 columns]",
      "text/html": "<div>\n<style scoped>\n    .dataframe tbody tr th:only-of-type {\n        vertical-align: middle;\n    }\n\n    .dataframe tbody tr th {\n        vertical-align: top;\n    }\n\n    .dataframe thead th {\n        text-align: right;\n    }\n</style>\n<table border=\"1\" class=\"dataframe\">\n  <thead>\n    <tr style=\"text-align: right;\">\n      <th></th>\n      <th>host_id</th>\n      <th>host_since</th>\n      <th>host_response_rate</th>\n      <th>host_acceptance_rate</th>\n      <th>host_listings_count</th>\n      <th>host_total_listings_count</th>\n      <th>latitude</th>\n      <th>longitude</th>\n      <th>accommodates</th>\n      <th>bedrooms</th>\n      <th>...</th>\n      <th>host_verifications_email</th>\n      <th>host_verifications_government_id</th>\n      <th>host_verifications_jumio</th>\n      <th>host_verifications_phone</th>\n      <th>host_verifications_reviews</th>\n      <th>instant_bookable</th>\n      <th>is_bathroom_private</th>\n      <th>neighbourhood_cleansed</th>\n      <th>property_type</th>\n      <th>room_type</th>\n    </tr>\n  </thead>\n  <tbody>\n    <tr>\n      <th>5269</th>\n      <td>420673373</td>\n      <td>0.958782</td>\n      <td>1.00</td>\n      <td>1.00</td>\n      <td>0</td>\n      <td>0</td>\n      <td>52.29860</td>\n      <td>4.95581</td>\n      <td>2</td>\n      <td>1.0</td>\n      <td>...</td>\n      <td>0</td>\n      <td>0</td>\n      <td>0</td>\n      <td>0</td>\n      <td>0</td>\n      <td>0</td>\n      <td>0</td>\n      <td>0</td>\n      <td>0</td>\n      <td>0</td>\n    </tr>\n    <tr>\n      <th>5444</th>\n      <td>429206111</td>\n      <td>0.970761</td>\n      <td>0.91</td>\n      <td>1.00</td>\n      <td>0</td>\n      <td>0</td>\n      <td>52.36525</td>\n      <td>4.87946</td>\n      <td>4</td>\n      <td>1.0</td>\n      <td>...</td>\n      <td>0</td>\n      <td>0</td>\n      <td>0</td>\n      <td>0</td>\n      <td>0</td>\n      <td>0</td>\n      <td>0</td>\n      <td>1</td>\n      <td>1</td>\n      <td>0</td>\n    </tr>\n    <tr>\n      <th>7029</th>\n      <td>293464674</td>\n      <td>0.812589</td>\n      <td>1.00</td>\n      <td>1.00</td>\n      <td>1</td>\n      <td>1</td>\n      <td>51.92125</td>\n      <td>4.49959</td>\n      <td>2</td>\n      <td>1.0</td>\n      <td>...</td>\n      <td>0</td>\n      <td>1</td>\n      <td>1</td>\n      <td>0</td>\n      <td>0</td>\n      <td>0</td>\n      <td>0</td>\n      <td>2</td>\n      <td>2</td>\n      <td>1</td>\n    </tr>\n    <tr>\n      <th>7134</th>\n      <td>80550302</td>\n      <td>0.575431</td>\n      <td>0.75</td>\n      <td>0.90</td>\n      <td>1</td>\n      <td>1</td>\n      <td>51.91032</td>\n      <td>4.52203</td>\n      <td>1</td>\n      <td>1.0</td>\n      <td>...</td>\n      <td>0</td>\n      <td>1</td>\n      <td>0</td>\n      <td>0</td>\n      <td>1</td>\n      <td>0</td>\n      <td>0</td>\n      <td>3</td>\n      <td>3</td>\n      <td>1</td>\n    </tr>\n    <tr>\n      <th>4457</th>\n      <td>237371423</td>\n      <td>0.765076</td>\n      <td>0.92</td>\n      <td>0.99</td>\n      <td>8</td>\n      <td>8</td>\n      <td>52.38586</td>\n      <td>4.87644</td>\n      <td>2</td>\n      <td>1.0</td>\n      <td>...</td>\n      <td>0</td>\n      <td>1</td>\n      <td>0</td>\n      <td>0</td>\n      <td>0</td>\n      <td>0</td>\n      <td>0</td>\n      <td>4</td>\n      <td>4</td>\n      <td>1</td>\n    </tr>\n  </tbody>\n</table>\n<p>5 rows × 68 columns</p>\n</div>"
     },
     "execution_count": 34,
     "metadata": {},
     "output_type": "execute_result"
    }
   ],
   "source": [
    "X_train.head()"
   ],
   "metadata": {
    "collapsed": false,
    "pycharm": {
     "name": "#%%\n"
    }
   }
  },
  {
   "cell_type": "code",
   "execution_count": 35,
   "outputs": [
    {
     "data": {
      "text/plain": "       host_id  host_since  host_response_rate  host_acceptance_rate  \\\n1895  25677161    0.465990                 1.0                  0.88   \n6778   5923086    0.337665                 1.0                  0.71   \n240    5878526    0.337056                 1.0                  0.57   \n4612    837675    0.208731                 1.0                  1.00   \n5698  32424525    0.489543                 0.8                  1.00   \n\n      host_listings_count  host_total_listings_count   latitude  longitude  \\\n1895                    1                          1  52.375460   4.876560   \n6778                    2                          2  51.924070   4.491460   \n240                     1                          1  52.360640   4.976430   \n4612                    1                          1  52.382830   4.967150   \n5698                    1                          1  52.385609   4.878721   \n\n      accommodates  bedrooms  ...  host_verifications_email  \\\n1895             4       2.0  ...                         0   \n6778             1       1.0  ...                         0   \n240              4       1.0  ...                         0   \n4612             4       2.0  ...                         0   \n5698             4       3.0  ...                         0   \n\n      host_verifications_government_id  host_verifications_jumio  \\\n1895                                 1                         1   \n6778                                 1                         1   \n240                                  1                         1   \n4612                                 1                         1   \n5698                                 1                         1   \n\n      host_verifications_phone  host_verifications_reviews  instant_bookable  \\\n1895                         0                           1                 1   \n6778                         0                           1                 1   \n240                          0                           1                 1   \n4612                         0                           1                 1   \n5698                         0                           1                 1   \n\n      is_bathroom_private  neighbourhood_cleansed  property_type  room_type  \n1895                    1                     4.0            3.0          1  \n6778                    0                    29.0           18.0          1  \n240                     0                    41.0           10.0          0  \n4612                    0                     6.0           27.0          0  \n5698                    0                     4.0            0.0          0  \n\n[5 rows x 68 columns]",
      "text/html": "<div>\n<style scoped>\n    .dataframe tbody tr th:only-of-type {\n        vertical-align: middle;\n    }\n\n    .dataframe tbody tr th {\n        vertical-align: top;\n    }\n\n    .dataframe thead th {\n        text-align: right;\n    }\n</style>\n<table border=\"1\" class=\"dataframe\">\n  <thead>\n    <tr style=\"text-align: right;\">\n      <th></th>\n      <th>host_id</th>\n      <th>host_since</th>\n      <th>host_response_rate</th>\n      <th>host_acceptance_rate</th>\n      <th>host_listings_count</th>\n      <th>host_total_listings_count</th>\n      <th>latitude</th>\n      <th>longitude</th>\n      <th>accommodates</th>\n      <th>bedrooms</th>\n      <th>...</th>\n      <th>host_verifications_email</th>\n      <th>host_verifications_government_id</th>\n      <th>host_verifications_jumio</th>\n      <th>host_verifications_phone</th>\n      <th>host_verifications_reviews</th>\n      <th>instant_bookable</th>\n      <th>is_bathroom_private</th>\n      <th>neighbourhood_cleansed</th>\n      <th>property_type</th>\n      <th>room_type</th>\n    </tr>\n  </thead>\n  <tbody>\n    <tr>\n      <th>1895</th>\n      <td>25677161</td>\n      <td>0.465990</td>\n      <td>1.0</td>\n      <td>0.88</td>\n      <td>1</td>\n      <td>1</td>\n      <td>52.375460</td>\n      <td>4.876560</td>\n      <td>4</td>\n      <td>2.0</td>\n      <td>...</td>\n      <td>0</td>\n      <td>1</td>\n      <td>1</td>\n      <td>0</td>\n      <td>1</td>\n      <td>1</td>\n      <td>1</td>\n      <td>4.0</td>\n      <td>3.0</td>\n      <td>1</td>\n    </tr>\n    <tr>\n      <th>6778</th>\n      <td>5923086</td>\n      <td>0.337665</td>\n      <td>1.0</td>\n      <td>0.71</td>\n      <td>2</td>\n      <td>2</td>\n      <td>51.924070</td>\n      <td>4.491460</td>\n      <td>1</td>\n      <td>1.0</td>\n      <td>...</td>\n      <td>0</td>\n      <td>1</td>\n      <td>1</td>\n      <td>0</td>\n      <td>1</td>\n      <td>1</td>\n      <td>0</td>\n      <td>29.0</td>\n      <td>18.0</td>\n      <td>1</td>\n    </tr>\n    <tr>\n      <th>240</th>\n      <td>5878526</td>\n      <td>0.337056</td>\n      <td>1.0</td>\n      <td>0.57</td>\n      <td>1</td>\n      <td>1</td>\n      <td>52.360640</td>\n      <td>4.976430</td>\n      <td>4</td>\n      <td>1.0</td>\n      <td>...</td>\n      <td>0</td>\n      <td>1</td>\n      <td>1</td>\n      <td>0</td>\n      <td>1</td>\n      <td>1</td>\n      <td>0</td>\n      <td>41.0</td>\n      <td>10.0</td>\n      <td>0</td>\n    </tr>\n    <tr>\n      <th>4612</th>\n      <td>837675</td>\n      <td>0.208731</td>\n      <td>1.0</td>\n      <td>1.00</td>\n      <td>1</td>\n      <td>1</td>\n      <td>52.382830</td>\n      <td>4.967150</td>\n      <td>4</td>\n      <td>2.0</td>\n      <td>...</td>\n      <td>0</td>\n      <td>1</td>\n      <td>1</td>\n      <td>0</td>\n      <td>1</td>\n      <td>1</td>\n      <td>0</td>\n      <td>6.0</td>\n      <td>27.0</td>\n      <td>0</td>\n    </tr>\n    <tr>\n      <th>5698</th>\n      <td>32424525</td>\n      <td>0.489543</td>\n      <td>0.8</td>\n      <td>1.00</td>\n      <td>1</td>\n      <td>1</td>\n      <td>52.385609</td>\n      <td>4.878721</td>\n      <td>4</td>\n      <td>3.0</td>\n      <td>...</td>\n      <td>0</td>\n      <td>1</td>\n      <td>1</td>\n      <td>0</td>\n      <td>1</td>\n      <td>1</td>\n      <td>0</td>\n      <td>4.0</td>\n      <td>0.0</td>\n      <td>0</td>\n    </tr>\n  </tbody>\n</table>\n<p>5 rows × 68 columns</p>\n</div>"
     },
     "execution_count": 35,
     "metadata": {},
     "output_type": "execute_result"
    }
   ],
   "source": [
    "X_test.head()"
   ],
   "metadata": {
    "collapsed": false,
    "pycharm": {
     "name": "#%%\n"
    }
   }
  },
  {
   "cell_type": "code",
   "execution_count": 36,
   "outputs": [
    {
     "data": {
      "text/plain": "array([dtype('int64'), dtype('float64')], dtype=object)"
     },
     "execution_count": 36,
     "metadata": {},
     "output_type": "execute_result"
    }
   ],
   "source": [
    "X_train.dtypes.unique()"
   ],
   "metadata": {
    "collapsed": false,
    "pycharm": {
     "name": "#%%\n"
    }
   }
  },
  {
   "cell_type": "code",
   "execution_count": 37,
   "outputs": [
    {
     "data": {
      "text/plain": "array([dtype('int64'), dtype('float64')], dtype=object)"
     },
     "execution_count": 37,
     "metadata": {},
     "output_type": "execute_result"
    }
   ],
   "source": [
    "X_test.dtypes.unique()"
   ],
   "metadata": {
    "collapsed": false,
    "pycharm": {
     "name": "#%%\n"
    }
   }
  },
  {
   "cell_type": "markdown",
   "source": [
    "# Export"
   ],
   "metadata": {
    "collapsed": false,
    "pycharm": {
     "name": "#%% md\n"
    }
   }
  },
  {
   "cell_type": "code",
   "execution_count": 38,
   "outputs": [
    {
     "data": {
      "text/plain": "        host_id  host_since  host_response_rate  host_acceptance_rate  \\\n5269  420673373    0.958782                1.00                  1.00   \n5444  429206111    0.970761                0.91                  1.00   \n7029  293464674    0.812589                1.00                  1.00   \n7134   80550302    0.575431                0.75                  0.90   \n4457  237371423    0.765076                0.92                  0.99   \n\n      host_listings_count  host_total_listings_count  latitude  longitude  \\\n5269                    0                          0  52.29860    4.95581   \n5444                    0                          0  52.36525    4.87946   \n7029                    1                          1  51.92125    4.49959   \n7134                    1                          1  51.91032    4.52203   \n4457                    8                          8  52.38586    4.87644   \n\n      accommodates  bedrooms  ...  host_verifications_email  \\\n5269             2       1.0  ...                         0   \n5444             4       1.0  ...                         0   \n7029             2       1.0  ...                         0   \n7134             1       1.0  ...                         0   \n4457             2       1.0  ...                         0   \n\n      host_verifications_government_id  host_verifications_jumio  \\\n5269                                 0                         0   \n5444                                 0                         0   \n7029                                 1                         1   \n7134                                 1                         0   \n4457                                 1                         0   \n\n      host_verifications_phone  host_verifications_reviews  instant_bookable  \\\n5269                         0                           0                 0   \n5444                         0                           0                 0   \n7029                         0                           0                 0   \n7134                         0                           1                 0   \n4457                         0                           0                 0   \n\n      is_bathroom_private  neighbourhood_cleansed  property_type  room_type  \n5269                    0                       0              0          0  \n5444                    0                       1              1          0  \n7029                    0                       2              2          1  \n7134                    0                       3              3          1  \n4457                    0                       4              4          1  \n\n[5 rows x 68 columns]",
      "text/html": "<div>\n<style scoped>\n    .dataframe tbody tr th:only-of-type {\n        vertical-align: middle;\n    }\n\n    .dataframe tbody tr th {\n        vertical-align: top;\n    }\n\n    .dataframe thead th {\n        text-align: right;\n    }\n</style>\n<table border=\"1\" class=\"dataframe\">\n  <thead>\n    <tr style=\"text-align: right;\">\n      <th></th>\n      <th>host_id</th>\n      <th>host_since</th>\n      <th>host_response_rate</th>\n      <th>host_acceptance_rate</th>\n      <th>host_listings_count</th>\n      <th>host_total_listings_count</th>\n      <th>latitude</th>\n      <th>longitude</th>\n      <th>accommodates</th>\n      <th>bedrooms</th>\n      <th>...</th>\n      <th>host_verifications_email</th>\n      <th>host_verifications_government_id</th>\n      <th>host_verifications_jumio</th>\n      <th>host_verifications_phone</th>\n      <th>host_verifications_reviews</th>\n      <th>instant_bookable</th>\n      <th>is_bathroom_private</th>\n      <th>neighbourhood_cleansed</th>\n      <th>property_type</th>\n      <th>room_type</th>\n    </tr>\n  </thead>\n  <tbody>\n    <tr>\n      <th>5269</th>\n      <td>420673373</td>\n      <td>0.958782</td>\n      <td>1.00</td>\n      <td>1.00</td>\n      <td>0</td>\n      <td>0</td>\n      <td>52.29860</td>\n      <td>4.95581</td>\n      <td>2</td>\n      <td>1.0</td>\n      <td>...</td>\n      <td>0</td>\n      <td>0</td>\n      <td>0</td>\n      <td>0</td>\n      <td>0</td>\n      <td>0</td>\n      <td>0</td>\n      <td>0</td>\n      <td>0</td>\n      <td>0</td>\n    </tr>\n    <tr>\n      <th>5444</th>\n      <td>429206111</td>\n      <td>0.970761</td>\n      <td>0.91</td>\n      <td>1.00</td>\n      <td>0</td>\n      <td>0</td>\n      <td>52.36525</td>\n      <td>4.87946</td>\n      <td>4</td>\n      <td>1.0</td>\n      <td>...</td>\n      <td>0</td>\n      <td>0</td>\n      <td>0</td>\n      <td>0</td>\n      <td>0</td>\n      <td>0</td>\n      <td>0</td>\n      <td>1</td>\n      <td>1</td>\n      <td>0</td>\n    </tr>\n    <tr>\n      <th>7029</th>\n      <td>293464674</td>\n      <td>0.812589</td>\n      <td>1.00</td>\n      <td>1.00</td>\n      <td>1</td>\n      <td>1</td>\n      <td>51.92125</td>\n      <td>4.49959</td>\n      <td>2</td>\n      <td>1.0</td>\n      <td>...</td>\n      <td>0</td>\n      <td>1</td>\n      <td>1</td>\n      <td>0</td>\n      <td>0</td>\n      <td>0</td>\n      <td>0</td>\n      <td>2</td>\n      <td>2</td>\n      <td>1</td>\n    </tr>\n    <tr>\n      <th>7134</th>\n      <td>80550302</td>\n      <td>0.575431</td>\n      <td>0.75</td>\n      <td>0.90</td>\n      <td>1</td>\n      <td>1</td>\n      <td>51.91032</td>\n      <td>4.52203</td>\n      <td>1</td>\n      <td>1.0</td>\n      <td>...</td>\n      <td>0</td>\n      <td>1</td>\n      <td>0</td>\n      <td>0</td>\n      <td>1</td>\n      <td>0</td>\n      <td>0</td>\n      <td>3</td>\n      <td>3</td>\n      <td>1</td>\n    </tr>\n    <tr>\n      <th>4457</th>\n      <td>237371423</td>\n      <td>0.765076</td>\n      <td>0.92</td>\n      <td>0.99</td>\n      <td>8</td>\n      <td>8</td>\n      <td>52.38586</td>\n      <td>4.87644</td>\n      <td>2</td>\n      <td>1.0</td>\n      <td>...</td>\n      <td>0</td>\n      <td>1</td>\n      <td>0</td>\n      <td>0</td>\n      <td>0</td>\n      <td>0</td>\n      <td>0</td>\n      <td>4</td>\n      <td>4</td>\n      <td>1</td>\n    </tr>\n  </tbody>\n</table>\n<p>5 rows × 68 columns</p>\n</div>"
     },
     "execution_count": 38,
     "metadata": {},
     "output_type": "execute_result"
    }
   ],
   "source": [
    "X_train.head()"
   ],
   "metadata": {
    "collapsed": false,
    "pycharm": {
     "name": "#%%\n"
    }
   }
  },
  {
   "cell_type": "code",
   "execution_count": 39,
   "outputs": [
    {
     "data": {
      "text/plain": "Index(['host_response_time', 'host_is_superhost', 'host_neighbourhood',\n       'host_has_profile_pic', 'host_identity_verified',\n       'neighbourhood_cleansed', 'property_type', 'room_type',\n       'has_availability', 'instant_bookable', 'city', 'has_license',\n       'is_bathroom_private', 'host_verifications_phone',\n       'host_verifications_email', 'host_verifications_jumio',\n       'host_verifications_reviews', 'host_verifications_government_id',\n       'amenities_Wifi', 'amenities_Essentials', 'amenities_Smoke alarm',\n       'amenities_Heating', 'amenities_Hangers',\n       'amenities_Long term stays allowed', 'amenities_Kitchen',\n       'amenities_Hair dryer', 'amenities_Hot water', 'amenities_Iron'],\n      dtype='object')"
     },
     "execution_count": 39,
     "metadata": {},
     "output_type": "execute_result"
    }
   ],
   "source": [
    "OBJECT_CATEGORICAL_VARIABLES"
   ],
   "metadata": {
    "collapsed": false,
    "pycharm": {
     "name": "#%%\n"
    }
   }
  },
  {
   "cell_type": "code",
   "execution_count": 40,
   "outputs": [
    {
     "data": {
      "text/plain": "['host_response_time',\n 'host_is_superhost',\n 'host_neighbourhood',\n 'host_has_profile_pic',\n 'host_identity_verified',\n 'neighbourhood_cleansed',\n 'property_type',\n 'room_type',\n 'has_availability',\n 'instant_bookable',\n 'city',\n 'has_license',\n 'is_bathroom_private',\n 'host_verifications_phone',\n 'host_verifications_email',\n 'host_verifications_jumio',\n 'host_verifications_reviews',\n 'host_verifications_government_id',\n 'amenities_Wifi',\n 'amenities_Essentials',\n 'amenities_Smoke alarm',\n 'amenities_Heating',\n 'amenities_Hangers',\n 'amenities_Long term stays allowed',\n 'amenities_Kitchen',\n 'amenities_Hair dryer',\n 'amenities_Hot water',\n 'amenities_Iron',\n 'host_id']"
     },
     "execution_count": 40,
     "metadata": {},
     "output_type": "execute_result"
    }
   ],
   "source": [
    "categorical_features = list(OBJECT_CATEGORICAL_VARIABLES) + [\"host_id\"]\n",
    "categorical_features"
   ],
   "metadata": {
    "collapsed": false,
    "pycharm": {
     "name": "#%%\n"
    }
   }
  },
  {
   "cell_type": "code",
   "execution_count": 41,
   "outputs": [],
   "source": [
    "features_dir = Path(\"data\") / \"features\"\n",
    "features_dir.mkdir(parents=True, exist_ok=True)"
   ],
   "metadata": {
    "collapsed": false,
    "pycharm": {
     "name": "#%%\n"
    }
   }
  },
  {
   "cell_type": "code",
   "execution_count": 42,
   "outputs": [],
   "source": [
    "import json\n",
    "\n",
    "X_train.to_csv(features_dir / \"X_train.csv\", index=False)\n",
    "X_test.to_csv(features_dir / \"X_test.csv\", index=False)\n",
    "y_train.to_csv(features_dir / \"y_train.csv\", index=False)\n",
    "y_test.to_csv(features_dir / \"y_test.csv\", index=False)\n",
    "\n",
    "with open(features_dir / \"meta.json\", \"w\") as f:\n",
    "    json.dump({\n",
    "        \"categorical_features\": categorical_features\n",
    "    }, f)"
   ],
   "metadata": {
    "collapsed": false,
    "pycharm": {
     "name": "#%%\n"
    }
   }
  }
 ],
 "metadata": {
  "kernelspec": {
   "display_name": "Python 3",
   "language": "python",
   "name": "python3"
  },
  "language_info": {
   "codemirror_mode": {
    "name": "ipython",
    "version": 2
   },
   "file_extension": ".py",
   "mimetype": "text/x-python",
   "name": "python",
   "nbconvert_exporter": "python",
   "pygments_lexer": "ipython2",
   "version": "2.7.6"
  }
 },
 "nbformat": 4,
 "nbformat_minor": 0
}